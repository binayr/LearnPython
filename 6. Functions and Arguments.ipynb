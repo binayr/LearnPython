{
 "cells": [
  {
   "cell_type": "markdown",
   "metadata": {},
   "source": [
    "# Functions & Arguments"
   ]
  },
  {
   "cell_type": "markdown",
   "metadata": {},
   "source": [
    "A statement can be categorised a bunch of codes written and executed to solve a specific problem or to get some work done. A function can be categorised as collection of few statements to achive some objective or action."
   ]
  },
  {
   "cell_type": "markdown",
   "metadata": {},
   "source": [
    "Syntax:\n",
    "\n",
    "`\n",
    "def function_name(arguments):\n",
    "    operations\n",
    "`    \n"
   ]
  },
  {
   "cell_type": "markdown",
   "metadata": {},
   "source": [
    "All methods in python are pass by reference. Pass by value is not there in python. Meaning all arguments you pass into a method, it will actually take the memory location of the argument rather than the actual value. So if you make any changes to that variable at 1 place it will change it at all places. But the scope of the variable passed into a function is limited to that function. That means once the function is complete the variable has no value outside. "
   ]
  },
  {
   "cell_type": "markdown",
   "metadata": {},
   "source": [
    "There are 4 types of arguments\n",
    "\n",
    "1. Required arguments\n",
    "2. Default Arguments\n",
    "3. Variable length arguments\n",
    "4. Keyword arguments\n",
    "\n",
    "We will explain everything with function definition."
   ]
  },
  {
   "cell_type": "markdown",
   "metadata": {},
   "source": [
    "Lets write a simple function which does not take any arguments and returns **Hello World** for printing."
   ]
  },
  {
   "cell_type": "code",
   "execution_count": 2,
   "metadata": {},
   "outputs": [
    {
     "data": {
      "text/plain": [
       "'Hello World'"
      ]
     },
     "execution_count": 2,
     "metadata": {},
     "output_type": "execute_result"
    }
   ],
   "source": [
    "def hello_world():\n",
    "    return \"Hello World\"\n",
    "\n",
    "hello_world()"
   ]
  },
  {
   "cell_type": "markdown",
   "metadata": {},
   "source": [
    "#### Function with required argument"
   ]
  },
  {
   "cell_type": "markdown",
   "metadata": {},
   "source": [
    "Required argument is something that is required to run a function, if not supplied it will break."
   ]
  },
  {
   "cell_type": "code",
   "execution_count": 4,
   "metadata": {},
   "outputs": [
    {
     "ename": "TypeError",
     "evalue": "print_variable() missing 1 required positional argument: 'variable'",
     "output_type": "error",
     "traceback": [
      "\u001b[0;31m---------------------------------------------------------------------------\u001b[0m",
      "\u001b[0;31mTypeError\u001b[0m                                 Traceback (most recent call last)",
      "\u001b[0;32m<ipython-input-4-5ae703246e78>\u001b[0m in \u001b[0;36m<module>\u001b[0;34m()\u001b[0m\n\u001b[1;32m      2\u001b[0m     \u001b[0mprint\u001b[0m\u001b[0;34m(\u001b[0m\u001b[0mvariable\u001b[0m\u001b[0;34m)\u001b[0m\u001b[0;34m\u001b[0m\u001b[0m\n\u001b[1;32m      3\u001b[0m \u001b[0;34m\u001b[0m\u001b[0m\n\u001b[0;32m----> 4\u001b[0;31m \u001b[0mprint_variable\u001b[0m\u001b[0;34m(\u001b[0m\u001b[0;34m)\u001b[0m\u001b[0;34m\u001b[0m\u001b[0m\n\u001b[0m",
      "\u001b[0;31mTypeError\u001b[0m: print_variable() missing 1 required positional argument: 'variable'"
     ]
    }
   ],
   "source": [
    "def print_variable(variable):\n",
    "    print(variable)\n",
    "    \n",
    "print_variable()"
   ]
  },
  {
   "cell_type": "markdown",
   "metadata": {},
   "source": [
    "The above function is raising exception because it needs 1 argument as input to print but not getting any. Lets give 1 argument and check."
   ]
  },
  {
   "cell_type": "code",
   "execution_count": 6,
   "metadata": {},
   "outputs": [
    {
     "name": "stdout",
     "output_type": "stream",
     "text": [
      "Hello World\n",
      "156\n",
      "56.5\n",
      "<built-in function print>\n",
      "[1, 2, 3, 4]\n"
     ]
    }
   ],
   "source": [
    "print_variable('Hello World') # String\n",
    "print_variable(156) # Integer\n",
    "print_variable(56.5) # float\n",
    "print_variable(print) # function as object\n",
    "print_variable([1,2,3,4]) # list"
   ]
  },
  {
   "cell_type": "markdown",
   "metadata": {},
   "source": [
    "#### Function with Default argument"
   ]
  },
  {
   "cell_type": "markdown",
   "metadata": {},
   "source": [
    "Default argument is when you provide a value to the function you function will take it, but when you do not it will take the default value defined in the definition. In both cases it will not break."
   ]
  },
  {
   "cell_type": "code",
   "execution_count": 7,
   "metadata": {},
   "outputs": [
    {
     "name": "stdout",
     "output_type": "stream",
     "text": [
      "Variable not supplied\n",
      "Hello World\n",
      "156\n",
      "56.5\n",
      "<built-in function print>\n",
      "[1, 2, 3, 4]\n"
     ]
    }
   ],
   "source": [
    "def print_variable(variable=\"Variable not supplied\"):\n",
    "    print(variable)\n",
    "    \n",
    "print_variable() #no arguments\n",
    "print_variable('Hello World') # String\n",
    "print_variable(156) # Integer\n",
    "print_variable(56.5) # float\n",
    "print_variable(print) # function as object\n",
    "print_variable([1,2,3,4]) # list"
   ]
  },
  {
   "cell_type": "markdown",
   "metadata": {},
   "source": [
    "#### Function with Variable length argument"
   ]
  },
  {
   "cell_type": "markdown",
   "metadata": {},
   "source": [
    "Cases where you the number of inputs are not certain you can use variable length arguments to take any number of arguments supplied to the function. The type of variable the function takes is tuple. It will convert all variables into a tuple and process one by one."
   ]
  },
  {
   "cell_type": "code",
   "execution_count": 10,
   "metadata": {},
   "outputs": [
    {
     "name": "stdout",
     "output_type": "stream",
     "text": [
      "Hello World\n",
      "156\n",
      "56.5\n",
      "<built-in function print>\n",
      "[1, 2, 3, 4]\n",
      "-------------------\n",
      "1\n",
      "2\n",
      "3\n",
      "4\n",
      "5\n",
      "6\n",
      "7\n",
      "Hello World\n"
     ]
    }
   ],
   "source": [
    "def print_variable(*variable):\n",
    "    for item in variable:\n",
    "        print(item)\n",
    "    \n",
    "print_variable() #no arguments\n",
    "print_variable('Hello World') # String\n",
    "print_variable(156) # Integer\n",
    "print_variable(56.5) # float\n",
    "print_variable(print) # function as object\n",
    "print_variable([1,2,3,4]) # list\n",
    "print('-------------------')\n",
    "print_variable(1,2,3,4,5,6,7,'Hello World')"
   ]
  },
  {
   "cell_type": "markdown",
   "metadata": {},
   "source": [
    "#### Functions with Keyword Argument"
   ]
  },
  {
   "cell_type": "markdown",
   "metadata": {},
   "source": [
    "If your number of inputs are uncertain as well as you want to define your variable and it's value and use them. You can use this type of variable. It will also called positional arguments. It converts it's inputs into a dictionary and uses them one by one."
   ]
  },
  {
   "cell_type": "code",
   "execution_count": 12,
   "metadata": {},
   "outputs": [
    {
     "name": "stdout",
     "output_type": "stream",
     "text": [
      "--------start----------\n",
      "-----------------------\n",
      "hello 1\n",
      "world 2\n",
      "-----------------------\n",
      "hello 1\n",
      "world 2\n",
      "---------end-----------\n"
     ]
    }
   ],
   "source": [
    "def print_variable(**kwargs):\n",
    "    for item in kwargs:\n",
    "        print(item, kwargs[item])\n",
    "        \n",
    "print('--------start----------')\n",
    "print_variable()\n",
    "print('-----------------------')\n",
    "print_variable(**{'hello': 1, 'world':2})\n",
    "print('-----------------------')\n",
    "print_variable(hello=1, world=2)\n",
    "print('---------end-----------')"
   ]
  },
  {
   "cell_type": "markdown",
   "metadata": {},
   "source": [
    "### Some More fun stuffs"
   ]
  },
  {
   "cell_type": "code",
   "execution_count": null,
   "metadata": {},
   "outputs": [],
   "source": []
  }
 ],
 "metadata": {
  "kernelspec": {
   "display_name": "Python 3",
   "language": "python",
   "name": "python3"
  },
  "language_info": {
   "codemirror_mode": {
    "name": "ipython",
    "version": 3
   },
   "file_extension": ".py",
   "mimetype": "text/x-python",
   "name": "python",
   "nbconvert_exporter": "python",
   "pygments_lexer": "ipython3",
   "version": "3.6.1"
  }
 },
 "nbformat": 4,
 "nbformat_minor": 2
}

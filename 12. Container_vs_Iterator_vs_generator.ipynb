{
 "cells": [
  {
   "cell_type": "markdown",
   "metadata": {},
   "source": [
    "### Data Containers"
   ]
  },
  {
   "cell_type": "markdown",
   "metadata": {},
   "source": [
    "Containers are data structures holding elements, and that support membership tests. They are data structures that live in memory, and typically hold all their values in memory, too. In Python, some well known examples are:\n",
    "\n",
    "\n",
    "**There are 5 types of famous data containers in python.**\n",
    "- Lists\n",
    "- Tuple\n",
    "- Dictionary\n",
    "- Set\n",
    "- str\n",
    "\n",
    "some others are, deque, frozensets, defaultdict, OrderedDict, Counter, namedtuple etc"
   ]
  },
  {
   "cell_type": "markdown",
   "metadata": {},
   "source": [
    "### Iterators"
   ]
  },
  {
   "cell_type": "code",
   "execution_count": 29,
   "metadata": {},
   "outputs": [],
   "source": [
    "from itertools import count\n",
    "from collections import Iterator\n",
    "from types import GeneratorType\n",
    "from itertools import cycle"
   ]
  },
  {
   "cell_type": "markdown",
   "metadata": {},
   "source": [
    "It's a stateful helper object that will produce the next value when you call `next()` on it. Any object that has a `__next__()` method is therefore an iterator. How it produces a value is irrelevant.\n",
    "\n",
    "So an iterator is a value factory. Each time you ask it for \"the next\" value, it knows how to compute it because it holds internal state.\n",
    "\n",
    "There are countless examples of iterators. All of the itertools functions return iterators. Some produce infinite sequences:"
   ]
  },
  {
   "cell_type": "code",
   "execution_count": 18,
   "metadata": {},
   "outputs": [
    {
     "name": "stdout",
     "output_type": "stream",
     "text": [
      "1 13\n",
      "2 14\n"
     ]
    }
   ],
   "source": [
    "counter = count(start=13)\n",
    "print(1, next(counter))\n",
    "print(2, next(counter))"
   ]
  },
  {
   "cell_type": "markdown",
   "metadata": {},
   "source": [
    "Some produce infinite sequences from finite sequences:\n",
    "\n"
   ]
  },
  {
   "cell_type": "code",
   "execution_count": 19,
   "metadata": {},
   "outputs": [
    {
     "name": "stdout",
     "output_type": "stream",
     "text": [
      "1 red\n",
      "2 white\n",
      "3 blue\n",
      "4 red\n"
     ]
    }
   ],
   "source": [
    "colors = cycle(['red', 'white', 'blue'])\n",
    "\n",
    "print(1, next(colors))\n",
    "print(2, next(colors))\n",
    "print(3, next(colors))\n",
    "print(4, next(colors))"
   ]
  },
  {
   "cell_type": "code",
   "execution_count": 34,
   "metadata": {},
   "outputs": [
    {
     "name": "stdout",
     "output_type": "stream",
     "text": [
      "1\n",
      "1\n",
      "2\n",
      "3\n",
      "5\n",
      "<class '__main__.fib'>\n",
      "True\n",
      "False\n"
     ]
    }
   ],
   "source": [
    "class fib:\n",
    "    def __init__(self):\n",
    "        self.prev = 0\n",
    "        self.curr = 1\n",
    "\n",
    "    def __iter__(self):\n",
    "        return self\n",
    "\n",
    "    def __next__(self):\n",
    "        value = self.curr\n",
    "        self.curr += self.prev\n",
    "        self.prev = value\n",
    "        return value\n",
    "    \n",
    "f = fib()\n",
    "print(next(f))\n",
    "print(next(f))\n",
    "print(next(f))\n",
    "print(next(f))\n",
    "print(next(f))\n",
    "print(type(f))\n",
    "print(isinstance(f, Iterator))\n",
    "print(isinstance(f, GeneratorType))"
   ]
  },
  {
   "cell_type": "code",
   "execution_count": 27,
   "metadata": {},
   "outputs": [
    {
     "name": "stdout",
     "output_type": "stream",
     "text": [
      "<class 'list_iterator'>\n",
      "first iteration\n",
      "1\n",
      "2\n",
      "3\n",
      "4\n",
      "second iteration\n"
     ]
    }
   ],
   "source": [
    "mylist = [1,2,3,4]\n",
    "iter_obj = iter(mylist)\n",
    "print(type(iter_obj))\n",
    "\n",
    "print('first iteration')\n",
    "for i in iter_obj:\n",
    "    print(i)\n",
    "\n",
    "print('second iteration')\n",
    "for i in iter_obj:\n",
    "    print(i)"
   ]
  },
  {
   "cell_type": "markdown",
   "metadata": {},
   "source": [
    "### Generators"
   ]
  },
  {
   "cell_type": "markdown",
   "metadata": {},
   "source": [
    "Finally, we've arrived at our destination! The generators are my absolute favorite Python language feature. A generator is a special kind of iterator—the elegant kind.\n",
    "\n",
    "A generator allows you to write iterators much like the Fibonacci sequence iterator example above, but in an elegant succinct syntax that avoids writing classes with `__iter__()` and `__next__()` methods.\n",
    "\n",
    "Let's be explicit:\n",
    "\n",
    "- Any generator also is an iterator (not vice versa!);\n",
    "- Any generator, therefore, is a factory that lazily produces values.\n",
    "\n",
    "Here is the same Fibonacci sequence factory, but written as a generator:"
   ]
  },
  {
   "cell_type": "code",
   "execution_count": 33,
   "metadata": {},
   "outputs": [
    {
     "name": "stdout",
     "output_type": "stream",
     "text": [
      "1\n",
      "1\n",
      "2\n",
      "3\n",
      "5\n",
      "<class 'generator'>\n",
      "True\n",
      "True\n"
     ]
    }
   ],
   "source": [
    "def fib_generator():\n",
    "    prev, curr = 0, 1\n",
    "    while True:\n",
    "        yield curr\n",
    "        prev, curr = curr, prev + curr\n",
    "        \n",
    "f = fib_generator()\n",
    "\n",
    "print(next(f))\n",
    "print(next(f))\n",
    "print(next(f))\n",
    "print(next(f))\n",
    "print(next(f))\n",
    "print(type(f))\n",
    "print(isinstance(f, Iterator))\n",
    "print(isinstance(f, GeneratorType))"
   ]
  },
  {
   "cell_type": "code",
   "execution_count": null,
   "metadata": {},
   "outputs": [],
   "source": []
  }
 ],
 "metadata": {
  "kernelspec": {
   "display_name": "Python 3",
   "language": "python",
   "name": "python3"
  },
  "language_info": {
   "codemirror_mode": {
    "name": "ipython",
    "version": 3
   },
   "file_extension": ".py",
   "mimetype": "text/x-python",
   "name": "python",
   "nbconvert_exporter": "python",
   "pygments_lexer": "ipython3",
   "version": "3.6.1"
  }
 },
 "nbformat": 4,
 "nbformat_minor": 2
}

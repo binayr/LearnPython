{
 "cells": [
  {
   "cell_type": "markdown",
   "metadata": {},
   "source": [
    "# Classes and Instances"
   ]
  },
  {
   "cell_type": "markdown",
   "metadata": {},
   "source": [
    "Classes are like the blueprints that build of saveral items. I will explain all the OOP scenarios with 2 different examples. Lets start with the first one.\n",
    "\n",
    "Cellphone manufacturing machine.\n",
    "------------------------------\n",
    "Let imagine we have a machine that manufactures cellphones. This machine takes metal, plastic, batteries and some othe equipments at one end and produce saveral equally capable and working and cellphones at the other end. This machine has it's own attribute like dimention, power input, etc. They have smaller devices within the big machine, one molds the body of the phone, one manufactures the PCB, one manufacture the lcd, finally one device assembles all the parts with the battery and passes on to the next device that loads the OS into the cellphone. \n",
    "\n",
    "\n",
    "Once the cellphone is ready it has it's own dimentions, battery life, resolution, os version etc. \n",
    "\n",
    "\n",
    "This big machine is like the class, machines dimentions and all are it's attributes. The smaller devices that does several tasks are like the class methods. When this methods work on the metal casing to give it the shape of mobile phone. this method is applying some action on the casing to change it into something else. but unlike the devices big machine is assembling the pieces and applying some methods and producing several products. That is a little bit different. which makes it a class. while we discuss more features of the class we will come accross many other concepts and compare that with the cellphone building machine. \n",
    "\n",
    "The other example we will discuss by the time we reach to the end of the tutorial."
   ]
  },
  {
   "cell_type": "code",
   "execution_count": 2,
   "metadata": {},
   "outputs": [
    {
     "name": "stdout",
     "output_type": "stream",
     "text": [
      "<__main__.Myclass object at 0x106570748>\n",
      "<class '__main__.Myclass'>\n"
     ]
    }
   ],
   "source": [
    "# Definition\n",
    "class Myclass:\n",
    "    pass\n",
    "\n",
    "# Instatiation\n",
    "x = Myclass()\n",
    "\n",
    "# object of MyClass\n",
    "print(x)\n",
    "\n",
    "# Type(class) of the object\n",
    "print(type(x))"
   ]
  },
  {
   "cell_type": "code",
   "execution_count": 9,
   "metadata": {},
   "outputs": [
    {
     "name": "stdout",
     "output_type": "stream",
     "text": [
      "<class '__main__.MyClass'>\n",
      "10\n",
      "<__main__.MyClass object at 0x10665a898>\n",
      "10\n",
      "5\n",
      "Hello World\n",
      "5 6 7\n"
     ]
    }
   ],
   "source": [
    "# Definition\n",
    "class MyClass:\n",
    "    # static attribute\n",
    "    x = 10\n",
    "    \n",
    "    # Initialise method, can be treated as constructor\n",
    "    def __init__(self, p, q, r, *args, **kwargs):\n",
    "        # class attribute (member)\n",
    "        self.y = 5\n",
    "        self.p = p\n",
    "        self.q = q\n",
    "        self.r = r\n",
    "        \n",
    "    # class member method\n",
    "    def sayhi(self, x):\n",
    "        print(\"Hello World\")\n",
    "        return self.y, x\n",
    "\n",
    "# instatiation\n",
    "z = MyClass(5, 6, 7)\n",
    "\n",
    "# class object\n",
    "print(MyClass)\n",
    "\n",
    "# static variable\n",
    "print(MyClass.x)\n",
    "\n",
    "# member attribute can not be accessed through the class\n",
    "# can only be accessed via object. Anything (attribue or method)\n",
    "# created with self is accessed via class instance only.\n",
    "\n",
    "#print(MyClass.y)\n",
    "\n",
    "# Instance and instance attributes\n",
    "print(z)\n",
    "print(z.x)\n",
    "print(z.y)\n",
    "\n",
    "# Member method invocation\n",
    "z.sayhi(100)\n",
    "print (z.p, z.q,z.r)"
   ]
  },
  {
   "cell_type": "markdown",
   "metadata": {},
   "source": [
    "### Abstraction"
   ]
  },
  {
   "cell_type": "markdown",
   "metadata": {},
   "source": [
    "Abstraction refers to the modeling of essential aspects, behaviour and characteristics of real-world problems and entities, providing a relevant subset as the definition of a programmatic structure that can realize such models. Abstraction not only contain the data attributes of such a model, but also provides interfaces with the data. An implementation of such an abstraction is the realization of that data and the interfaces that go along with it. Such a realization should remain hidden from and irrelevant to the client programmer."
   ]
  },
  {
   "cell_type": "markdown",
   "metadata": {},
   "source": [
    "### Encapsulation / Interface"
   ]
  },
  {
   "cell_type": "markdown",
   "metadata": {},
   "source": [
    "Encapsulation describes the concept of data/information hiding and providing interfaces or accessor functions to the data attributes. Direct access to data by any client, bypassing the interfaces, goes against the principles of encapsulation, but the programmer is free to allow such access. As a part of the implementation, the client should not even know how the data attributes are architected within the abstraction. In Python all class attributes are public, but names may be “mangled” to discourage unauthorized access, but otherwise not prevented. It is up to the designer to provide the appropriate interfaces to the data so that the client programmer does not have to resort to manipulating the encapsulated data attributes."
   ]
  },
  {
   "cell_type": "markdown",
   "metadata": {},
   "source": [
    "### Composition"
   ]
  },
  {
   "cell_type": "markdown",
   "metadata": {},
   "source": [
    "Composition extends our description of classes, enabling multiple yet distinct classes to be combined into a larger entity to solve a real world problem. Composition describes a singular, complex systems such as a class made up of other smaller components such as other classes, data attributes and behaviours, all of which are combined, embodying “has-a” relationships. For example, the RepairShop “has-a” Mechanic and also “has-a” Customer.\n",
    "\n",
    "Creating composite objects enables such additional functionality and makes sense because the classes have nothing in common. Each classes have it’s own namespace and behaviour. When there are more intimate relations between objects, the concept of derivation may make more sense in your application, especially if you require like objects, with slightly different functionality.\n"
   ]
  },
  {
   "cell_type": "code",
   "execution_count": 3,
   "metadata": {},
   "outputs": [
    {
     "name": "stdout",
     "output_type": "stream",
     "text": [
      "12\n",
      "8\n",
      "20\n",
      "5.0\n",
      "100\n",
      "<__main__.Math object at 0x106586748>\n",
      "<__main__.Math1 object at 0x1065867f0>\n",
      "<__main__.Math2 object at 0x106586780>\n"
     ]
    }
   ],
   "source": [
    "class Math1:\n",
    "    \n",
    "    def __init__(self, x, y):\n",
    "        self.x = x\n",
    "        self.y = y\n",
    "    \n",
    "    def add(self):\n",
    "        return self.x + self.y\n",
    "    \n",
    "    def subtract(self):\n",
    "        return self.x - self.y\n",
    "    \n",
    "\n",
    "class Math2:\n",
    "    \n",
    "    def __init__(self, x, y):\n",
    "        self.x = x\n",
    "        self.y = y\n",
    "    \n",
    "    def multiply(self):\n",
    "        return self.x * self.y\n",
    "    \n",
    "    def devide(self):\n",
    "        return self.x / self.y\n",
    "    \n",
    "class Math:\n",
    "    \n",
    "    def __init__(self, x, y):\n",
    "        self.x = x\n",
    "        self.y = y\n",
    "        self.m1 = Math1(x, y)\n",
    "        self.m2 = Math2(x, y)\n",
    "    \n",
    "    def add(self):\n",
    "        return self.m1.add()\n",
    "    \n",
    "    def multiply(self):\n",
    "        return self.m2.multiply()\n",
    "    \n",
    "    def power(self):\n",
    "        return self.x ** self.y\n",
    "    \n",
    "\n",
    "obj = Math(10, 2)\n",
    "print(obj.add())\n",
    "print(obj.m1.subtract())\n",
    "print(obj.multiply())\n",
    "print(obj.m2.devide())\n",
    "print(obj.power())\n",
    "print(obj)\n",
    "print(obj.m1)\n",
    "print(obj.m2)\n"
   ]
  },
  {
   "cell_type": "markdown",
   "metadata": {},
   "source": [
    "### Inheritance"
   ]
  },
  {
   "cell_type": "markdown",
   "metadata": {},
   "source": [
    "Composition works fine when classes are distinct and are a required component of a larger class, But when you need the same class with a small change in its behaviour derivation/Inheritance comes handy."
   ]
  },
  {
   "cell_type": "raw",
   "metadata": {},
   "source": [
    "Inheritance passes all the features of the parent to the child so that you can use abstract parent features along with some extra features.\n",
    "\n",
    "Below is a case of inheritance explaining here,\n",
    "\n",
    "  Person\n",
    "    |\n",
    "   \\|/\n",
    "  Student\n",
    "\n",
    "The parent_method can be accessed by the Student object but student_method can not be accessed by the Person object."
   ]
  },
  {
   "cell_type": "code",
   "execution_count": 4,
   "metadata": {},
   "outputs": [
    {
     "name": "stdout",
     "output_type": "stream",
     "text": [
      "Parent\n",
      "Student\n",
      "Parent\n",
      "(<class 'object'>,)\n",
      "(<class '__main__.Person'>,)\n"
     ]
    }
   ],
   "source": [
    "class Person:\n",
    "\n",
    "    def parent_method(self):\n",
    "        print('Parent')\n",
    "\n",
    "class Student(Person):\n",
    "\n",
    "    def student_method(self):\n",
    "        print('Student')\n",
    "\n",
    "\n",
    "p = Person()\n",
    "s = Student()\n",
    "\n",
    "p.parent_method()\n",
    "s.student_method()\n",
    "s.parent_method()\n",
    "\n",
    "print(Person.__bases__)\n",
    "print(Student.__bases__)"
   ]
  },
  {
   "cell_type": "raw",
   "metadata": {},
   "source": [
    "One more example explaing how one method of a parent class can be can be overriden by the child class. The super can be used to call the appropriate paraent method by the language itself."
   ]
  },
  {
   "cell_type": "code",
   "execution_count": 5,
   "metadata": {},
   "outputs": [
    {
     "name": "stdout",
     "output_type": "stream",
     "text": [
      "Parent\n",
      "Student\n",
      "Parent\n"
     ]
    }
   ],
   "source": [
    "class Parent:\n",
    "    def sayhi(self):\n",
    "        print('Parent')\n",
    "\n",
    "\n",
    "class Student1(Parent):\n",
    "    def sayhi(self):\n",
    "        print('Student')\n",
    "\n",
    "        \n",
    "class Student2(Parent):\n",
    "    def sayhi(self):\n",
    "        super(Student2, self).sayhi()\n",
    "        \n",
    "\n",
    "p = Parent()\n",
    "s1 = Student1()\n",
    "s2 = Student2()\n",
    "\n",
    "p.sayhi()\n",
    "s1.sayhi()\n",
    "s2.sayhi()"
   ]
  },
  {
   "cell_type": "markdown",
   "metadata": {},
   "source": [
    "### Method Resolution Order (MRO)"
   ]
  },
  {
   "cell_type": "markdown",
   "metadata": {},
   "source": [
    "In many languages it is not allowed to have multiple inheritances(Same thing is handled in different ways). But in python you can directly inherit more than one class. Incase of direct inheritance it is very easy to override or call the parent method, but in case where multiple classes are inherited with multiple level and more than one parent have method with same name but doing different work how is it going to determine which method to call when it is called from the child.\n",
    "\n",
    "Here comes Method resolution order. There are a set of rules that the compiler follows and determines which method to call. Let me give a scenario and explain it below.\n",
    "\n",
    "        P1(foo)   -------------------P2(foo, bar)\n",
    "          |   |___|_________            |\n",
    "          |       |         |           |\n",
    "          -------A1()       A2(bar)------  \n",
    "                   |          |\n",
    "                   |          |\n",
    "                   |___GC()___|\n",
    "                   \n",
    "In the above scenario, P1 is a class having a method foo. P2 is a class having 2 methods foo and bar. A1 is inherited from P1 and P2. A2 is inherited from P1 and P2 and it overrides the bar method from P2. GC is inherited from A1 and A2. \n",
    "\n",
    "Now if you try to call method bar from gc object. It will first search in GC, it will not find it. Then it will go to A1 it wont find bar. then it will check for A2 as A2 is the next immidiate parent. It will find bar and executes it.\n",
    "\n",
    "In older version of python and in Old style classes of python 2.x, if you call bar from gc it will do a depth first traversal and find the bar method of P2 instead of A2."
   ]
  },
  {
   "cell_type": "code",
   "execution_count": 1,
   "metadata": {},
   "outputs": [
    {
     "name": "stdout",
     "output_type": "stream",
     "text": [
      "a2-bar\n"
     ]
    }
   ],
   "source": [
    "class P1:\n",
    "    def foo(self):\n",
    "        print('p1-foo')\n",
    "\n",
    "class P2:\n",
    "    def foo(self):\n",
    "        print('p2-foo')\n",
    "    \n",
    "    def bar(self):\n",
    "        print('p2-bar')\n",
    "        \n",
    "class A1(P1, P2):\n",
    "    pass\n",
    "\n",
    "class A2(P1, P2):\n",
    "    def bar(self):\n",
    "        print('a2-bar')\n",
    "        \n",
    "class GC(A1, A2):\n",
    "    pass\n",
    "\n",
    "gc = GC()\n",
    "gc.bar()"
   ]
  },
  {
   "cell_type": "markdown",
   "metadata": {},
   "source": [
    "##### Diamond Problem"
   ]
  },
  {
   "cell_type": "raw",
   "metadata": {},
   "source": [
    "This is also a problem that existed in older version of python. with new style classes when you inherit a class with 2 different class. one of then has default init and one of them has modified init. Now when the child is instantiated it takes the init of object instead of the parent. This problem was resolved in python3.x\n",
    "\n",
    "                               object\n",
    "                               /    \\\n",
    "                              /      \\\n",
    "                             /        \\\n",
    "                            A1         A2(__init__: self.x=5)\n",
    "                             \\         /\n",
    "                              \\       /\n",
    "                               \\     /\n",
    "                                \\   /\n",
    "                                  C\n",
    "c = C()\n",
    "c.x  # error x is referenced before assignment"
   ]
  },
  {
   "cell_type": "markdown",
   "metadata": {},
   "source": [
    "### Generalization/Specialization"
   ]
  },
  {
   "cell_type": "markdown",
   "metadata": {},
   "source": [
    "Generalization describes all traits a subclass has with it’s parent and ancestor classes, so subclasses are considered to have “is-a” relationship with ancestor classes because a derived object(instance) is an example of an ancestor class. For example, a Mechanic “is-a” Person, a car “is-a” Vehicle, etc. In the family tree diagram we alluded to above, we can draw lines from subclasses to ancestors indicating “is-a” relationship. Specialization is the term that describes all the customization of a subclass, ie what attributes make it differ from its ancestor classes."
   ]
  },
  {
   "cell_type": "markdown",
   "metadata": {},
   "source": [
    "### Polymorphism"
   ]
  },
  {
   "cell_type": "markdown",
   "metadata": {},
   "source": [
    "The concept of polymorphism describes how objects can be manipulated and accessed using attributes and behaviours they have in common. Without regard to their specific class. Polymorphism indicates the presence of dynamic binding, allowing for overriding and runtime type determination and verification."
   ]
  },
  {
   "cell_type": "code",
   "execution_count": 8,
   "metadata": {},
   "outputs": [
    {
     "name": "stdout",
     "output_type": "stream",
     "text": [
      "hi 5\n",
      "python binay\n",
      "5 [1, 2, 3]\n"
     ]
    }
   ],
   "source": [
    "class MyClass:\n",
    "    def sayhi(self, x=5, y='hi'):\n",
    "        return f\"{y} {x}\"\n",
    "    \n",
    "x = MyClass()\n",
    "print(x.sayhi())\n",
    "print(x.sayhi('binay', 'python'))\n",
    "print(x.sayhi([1,2,3], 5))"
   ]
  },
  {
   "cell_type": "raw",
   "metadata": {},
   "source": [
    "In the above example. Operations are performed depending on the inputs. when input is not provided, It takes some default inputs. This is a type of polymorphism. Another type can be achieved with inheritance, explaining below."
   ]
  },
  {
   "cell_type": "code",
   "execution_count": null,
   "metadata": {},
   "outputs": [],
   "source": [
    "a = list()\n"
   ]
  },
  {
   "cell_type": "code",
   "execution_count": 23,
   "metadata": {},
   "outputs": [
    {
     "data": {
      "text/plain": [
       "3"
      ]
     },
     "execution_count": 23,
     "metadata": {},
     "output_type": "execute_result"
    }
   ],
   "source": [
    "len([1,2,3])"
   ]
  },
  {
   "cell_type": "code",
   "execution_count": 24,
   "metadata": {},
   "outputs": [
    {
     "data": {
      "text/plain": [
       "8"
      ]
     },
     "execution_count": 24,
     "metadata": {},
     "output_type": "execute_result"
    }
   ],
   "source": [
    "5+3 #__add__"
   ]
  },
  {
   "cell_type": "code",
   "execution_count": 26,
   "metadata": {},
   "outputs": [
    {
     "data": {
      "text/plain": [
       "'anbcdsds'"
      ]
     },
     "execution_count": 26,
     "metadata": {},
     "output_type": "execute_result"
    }
   ],
   "source": [
    "'anbc' + 'dsds' #__add__"
   ]
  },
  {
   "cell_type": "code",
   "execution_count": 32,
   "metadata": {},
   "outputs": [
    {
     "data": {
      "text/plain": [
       "False"
      ]
     },
     "execution_count": 32,
     "metadata": {},
     "output_type": "execute_result"
    }
   ],
   "source": [
    "isinstance((5,),list)"
   ]
  },
  {
   "cell_type": "code",
   "execution_count": 35,
   "metadata": {},
   "outputs": [
    {
     "data": {
      "text/plain": [
       "False"
      ]
     },
     "execution_count": 35,
     "metadata": {},
     "output_type": "execute_result"
    }
   ],
   "source": [
    "hasattr(list, 'binay')"
   ]
  },
  {
   "cell_type": "code",
   "execution_count": 36,
   "metadata": {},
   "outputs": [
    {
     "data": {
      "text/plain": [
       "['__add__',\n",
       " '__class__',\n",
       " '__contains__',\n",
       " '__delattr__',\n",
       " '__delitem__',\n",
       " '__dir__',\n",
       " '__doc__',\n",
       " '__eq__',\n",
       " '__format__',\n",
       " '__ge__',\n",
       " '__getattribute__',\n",
       " '__getitem__',\n",
       " '__gt__',\n",
       " '__hash__',\n",
       " '__iadd__',\n",
       " '__imul__',\n",
       " '__init__',\n",
       " '__init_subclass__',\n",
       " '__iter__',\n",
       " '__le__',\n",
       " '__len__',\n",
       " '__lt__',\n",
       " '__mul__',\n",
       " '__ne__',\n",
       " '__new__',\n",
       " '__reduce__',\n",
       " '__reduce_ex__',\n",
       " '__repr__',\n",
       " '__reversed__',\n",
       " '__rmul__',\n",
       " '__setattr__',\n",
       " '__setitem__',\n",
       " '__sizeof__',\n",
       " '__str__',\n",
       " '__subclasshook__',\n",
       " 'append',\n",
       " 'clear',\n",
       " 'copy',\n",
       " 'count',\n",
       " 'extend',\n",
       " 'index',\n",
       " 'insert',\n",
       " 'pop',\n",
       " 'remove',\n",
       " 'reverse',\n",
       " 'sort']"
      ]
     },
     "execution_count": 36,
     "metadata": {},
     "output_type": "execute_result"
    }
   ],
   "source": [
    "dir(list)"
   ]
  },
  {
   "cell_type": "code",
   "execution_count": 62,
   "metadata": {},
   "outputs": [],
   "source": [
    "class MyClass(object):\n",
    "    def __init__(self):\n",
    "        self.a = 5\n",
    "        self._a = 50\n",
    "        self.__a = 500\n",
    "        \n",
    "    def get_a(self):\n",
    "        return self.__a\n",
    "\n",
    "m = MyClass()"
   ]
  },
  {
   "cell_type": "code",
   "execution_count": 57,
   "metadata": {},
   "outputs": [
    {
     "data": {
      "text/plain": [
       "5"
      ]
     },
     "execution_count": 57,
     "metadata": {},
     "output_type": "execute_result"
    }
   ],
   "source": [
    "m.a"
   ]
  },
  {
   "cell_type": "code",
   "execution_count": 58,
   "metadata": {},
   "outputs": [
    {
     "data": {
      "text/plain": [
       "50"
      ]
     },
     "execution_count": 58,
     "metadata": {},
     "output_type": "execute_result"
    }
   ],
   "source": [
    "m._a"
   ]
  },
  {
   "cell_type": "code",
   "execution_count": 59,
   "metadata": {},
   "outputs": [
    {
     "data": {
      "text/plain": [
       "500"
      ]
     },
     "execution_count": 59,
     "metadata": {},
     "output_type": "execute_result"
    }
   ],
   "source": [
    "m.get_a()"
   ]
  },
  {
   "cell_type": "code",
   "execution_count": 60,
   "metadata": {},
   "outputs": [
    {
     "ename": "AttributeError",
     "evalue": "'MyClass' object has no attribute '__a'",
     "output_type": "error",
     "traceback": [
      "\u001b[0;31m---------------------------------------------------------------------------\u001b[0m",
      "\u001b[0;31mAttributeError\u001b[0m                            Traceback (most recent call last)",
      "\u001b[0;32m<ipython-input-60-5447f29a2ca0>\u001b[0m in \u001b[0;36m<module>\u001b[0;34m()\u001b[0m\n\u001b[0;32m----> 1\u001b[0;31m \u001b[0mm\u001b[0m\u001b[0;34m.\u001b[0m\u001b[0m__a\u001b[0m\u001b[0;34m\u001b[0m\u001b[0m\n\u001b[0m",
      "\u001b[0;31mAttributeError\u001b[0m: 'MyClass' object has no attribute '__a'"
     ]
    }
   ],
   "source": [
    "m.__a"
   ]
  },
  {
   "cell_type": "code",
   "execution_count": 64,
   "metadata": {},
   "outputs": [
    {
     "data": {
      "text/plain": [
       "500"
      ]
     },
     "execution_count": 64,
     "metadata": {},
     "output_type": "execute_result"
    }
   ],
   "source": [
    "m._MyClass__a"
   ]
  },
  {
   "cell_type": "code",
   "execution_count": 66,
   "metadata": {},
   "outputs": [
    {
     "ename": "SyntaxError",
     "evalue": "Missing parentheses in call to 'print' (<ipython-input-66-264522b05d63>, line 5)",
     "output_type": "error",
     "traceback": [
      "\u001b[0;36m  File \u001b[0;32m\"<ipython-input-66-264522b05d63>\"\u001b[0;36m, line \u001b[0;32m5\u001b[0m\n\u001b[0;31m    print '-----------------------------------'\u001b[0m\n\u001b[0m                                              ^\u001b[0m\n\u001b[0;31mSyntaxError\u001b[0m\u001b[0;31m:\u001b[0m Missing parentheses in call to 'print'\n"
     ]
    }
   ],
   "source": [
    "# https://eli.thegreenplace.net/2011/08/14/python-metaclasses-by-example\n",
    "\n",
    "class MyMeta(type):\n",
    "    def __new__(meta, name, bases, dct):\n",
    "        print '-----------------------------------'\n",
    "        print \"Allocating memory for class\", name\n",
    "        print meta\n",
    "        print bases\n",
    "        print dct\n",
    "        return super(MyMeta, meta).__new__(meta, name, bases, dct)\n",
    "    def __init__(cls, name, bases, dct):\n",
    "        print '-----------------------------------'\n",
    "        print \"Initializing class\", name\n",
    "        print cls\n",
    "        print bases\n",
    "        print dct\n",
    "        super(MyMeta, cls).__init__(name, bases, dct)\n",
    "        \n",
    "class MyKlass(object):\n",
    "    __metaclass__ = MyMeta\n",
    "\n",
    "    def foo(self, param):\n",
    "        pass\n",
    "\n",
    "    barattr = 2"
   ]
  },
  {
   "cell_type": "code",
   "execution_count": null,
   "metadata": {},
   "outputs": [],
   "source": []
  }
 ],
 "metadata": {
  "kernelspec": {
   "display_name": "Python 3",
   "language": "python",
   "name": "python3"
  },
  "language_info": {
   "codemirror_mode": {
    "name": "ipython",
    "version": 3
   },
   "file_extension": ".py",
   "mimetype": "text/x-python",
   "name": "python",
   "nbconvert_exporter": "python",
   "pygments_lexer": "ipython3",
   "version": "3.6.1"
  }
 },
 "nbformat": 4,
 "nbformat_minor": 2
}

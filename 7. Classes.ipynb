{
 "cells": [
  {
   "cell_type": "markdown",
   "metadata": {},
   "source": [
    "# Classes and Instances"
   ]
  },
  {
   "cell_type": "code",
   "execution_count": 4,
   "metadata": {},
   "outputs": [],
   "source": [
    "class Myclass:\n",
    "    pass\n",
    "\n",
    "class MyClass2(object):\n",
    "    pass"
   ]
  },
  {
   "cell_type": "code",
   "execution_count": 3,
   "metadata": {},
   "outputs": [
    {
     "name": "stdout",
     "output_type": "stream",
     "text": [
      "<__main__.MyClass object at 0x10667e518>\n",
      "<class '__main__.MyClass'>\n"
     ]
    }
   ],
   "source": [
    "x = MyClass()\n",
    "print(x)\n",
    "print(type(x))"
   ]
  },
  {
   "cell_type": "code",
   "execution_count": 13,
   "metadata": {},
   "outputs": [
    {
     "name": "stdout",
     "output_type": "stream",
     "text": [
      "<class '__main__.MyClass'>\n",
      "10\n",
      "<__main__.MyClass object at 0x10672ad68>\n",
      "10\n",
      "5\n",
      "Hello World\n",
      "5 6 7\n"
     ]
    }
   ],
   "source": [
    "class MyClass(object):\n",
    "    x = 10\n",
    "    \n",
    "    def __init__(self, p, q, r, *args, **kwargs):\n",
    "        self.y = 5\n",
    "        self.p = p\n",
    "        self.q = q\n",
    "        self.r = r\n",
    "        \n",
    "    def sayhi(self, x):\n",
    "        print(\"Hello World\")\n",
    "        return self.y, x\n",
    "        \n",
    "z = MyClass(5, 6, 7)\n",
    "print(MyClass)\n",
    "print(MyClass.x)\n",
    "#print(MyClass.y)\n",
    "print(z)\n",
    "print(z.x)\n",
    "print(z.y)\n",
    "z.sayhi(100)\n",
    "print (z.p, z.q,z.r)"
   ]
  },
  {
   "cell_type": "code",
   "execution_count": null,
   "metadata": {},
   "outputs": [],
   "source": []
  }
 ],
 "metadata": {
  "kernelspec": {
   "display_name": "Python 3",
   "language": "python",
   "name": "python3"
  },
  "language_info": {
   "codemirror_mode": {
    "name": "ipython",
    "version": 3
   },
   "file_extension": ".py",
   "mimetype": "text/x-python",
   "name": "python",
   "nbconvert_exporter": "python",
   "pygments_lexer": "ipython3",
   "version": "3.6.1"
  }
 },
 "nbformat": 4,
 "nbformat_minor": 2
}

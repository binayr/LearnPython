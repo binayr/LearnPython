{
 "cells": [
  {
   "cell_type": "markdown",
   "metadata": {},
   "source": [
    "# Classes and Instances"
   ]
  },
  {
   "cell_type": "markdown",
   "metadata": {},
   "source": [
    "Classes are like the blueprints that build of saveral items. I will explain all the OOP scenarios with 2 different examples. Lets start with the first one.\n",
    "\n",
    "Cellphone manufacturing machine.\n",
    "------------------------------\n",
    "Let imagine we have a machine that manufactures cellphones. This machine takes metal, plastic, batteries and some othe equipments at one end and produce saveral equally capable and working and cellphones at the other end. This machine has it's own attribute like dimention, power input, etc. They have smaller devices within the big machine, one molds the body of the phone, one manufactures the PCB, one manufacture the lcd, finally one device assembles all the parts with the battery and passes on to the next device that loads the OS into the cellphone. \n",
    "\n",
    "\n",
    "Once the cellphone is ready it has it's own dimentions, battery life, resolution, os version etc. \n",
    "\n",
    "\n",
    "This big machine is like the class, machines dimentions and all are it's attributes. The smaller devices that does several tasks are like the class methods. When this methods work on the metal casing to give it the shape of mobile phone. this method is applying some action on the casing to change it into something else. but unlike the devices big machine is assembling the pieces and applying some methods and producing several products. That is a little bit different. which makes it a class. while we discuss more features of the class we will come accross many other concepts and compare that with the cellphone building machine. \n",
    "\n",
    "The other example we will discuss by the time we reach to the end of the tutorial."
   ]
  },
  {
   "cell_type": "raw",
   "metadata": {},
   "source": [
    "Below is the Syntax of class in python\n",
    "\n",
    "Old style classes\n",
    "------------------\n",
    "class Myclass:\n",
    "    pass\n",
    "\n",
    "New Style classes\n",
    "------------------\n",
    "class MyClass2(object):\n",
    "    pass"
   ]
  },
  {
   "cell_type": "markdown",
   "metadata": {},
   "source": [
    "There are 2 types of class definition in python, both are mentioned above.\n",
    "old style classes have some flaws that we will discuss when we will discuss about Inheritance and MRO. To Overcome those issue the new style classes in python2.2. You should always use new style classes to avoid saveral issue and get upto date with the latest updates provided by phython community."
   ]
  },
  {
   "cell_type": "code",
   "execution_count": 3,
   "metadata": {},
   "outputs": [
    {
     "name": "stdout",
     "output_type": "stream",
     "text": [
      "<__main__.Myclass object at 0x1066dad68>\n",
      "<class '__main__.Myclass'>\n"
     ]
    }
   ],
   "source": [
    "# Definition\n",
    "class Myclass(object):\n",
    "    pass\n",
    "\n",
    "# Instatiation\n",
    "x = Myclass()\n",
    "\n",
    "# object of MyClass\n",
    "print(x)\n",
    "\n",
    "# Type(class) of the object\n",
    "print(type(x))"
   ]
  },
  {
   "cell_type": "code",
   "execution_count": 13,
   "metadata": {},
   "outputs": [
    {
     "name": "stdout",
     "output_type": "stream",
     "text": [
      "<class '__main__.MyClass'>\n",
      "10\n",
      "<__main__.MyClass object at 0x10672ad68>\n",
      "10\n",
      "5\n",
      "Hello World\n",
      "5 6 7\n"
     ]
    }
   ],
   "source": [
    "# Definition\n",
    "class MyClass(object):\n",
    "    # static attribute\n",
    "    x = 10\n",
    "    \n",
    "    # Initialise method, can be treated as constructor\n",
    "    def __init__(self, p, q, r, *args, **kwargs):\n",
    "        # class attribute (member)\n",
    "        self.y = 5\n",
    "        self.p = p\n",
    "        self.q = q\n",
    "        self.r = r\n",
    "        \n",
    "    # class member method\n",
    "    def sayhi(self, x):\n",
    "        print(\"Hello World\")\n",
    "        return self.y, x\n",
    "\n",
    "# instatiation\n",
    "z = MyClass(5, 6, 7)\n",
    "\n",
    "# class object\n",
    "print(MyClass)\n",
    "\n",
    "# static variable\n",
    "print(MyClass.x)\n",
    "\n",
    "# member attribute can not be accessed through the class\n",
    "# can only be accessed via object. Anything (attribue or method)\n",
    "# created with self is accessed via class instance only.\n",
    "#print(MyClass.y)\n",
    "\n",
    "print(z)\n",
    "print(z.x)\n",
    "print(z.y)\n",
    "z.sayhi(100)\n",
    "print (z.p, z.q,z.r)"
   ]
  },
  {
   "cell_type": "code",
   "execution_count": null,
   "metadata": {},
   "outputs": [],
   "source": []
  }
 ],
 "metadata": {
  "kernelspec": {
   "display_name": "Python 3",
   "language": "python",
   "name": "python3"
  },
  "language_info": {
   "codemirror_mode": {
    "name": "ipython",
    "version": 3
   },
   "file_extension": ".py",
   "mimetype": "text/x-python",
   "name": "python",
   "nbconvert_exporter": "python",
   "pygments_lexer": "ipython3",
   "version": "3.6.1"
  }
 },
 "nbformat": 4,
 "nbformat_minor": 2
}

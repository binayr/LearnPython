{
 "cells": [
  {
   "cell_type": "markdown",
   "metadata": {},
   "source": [
    "# Classes and Instances"
   ]
  },
  {
   "cell_type": "markdown",
   "metadata": {},
   "source": [
    "Classes are like the blueprints that build of saveral items. I will explain all the OOP scenarios with 2 different examples. Lets start with the first one.\n",
    "\n",
    "Cellphone manufacturing machine.\n",
    "------------------------------\n",
    "Let imagine we have a machine that manufactures cellphones. This machine takes metal, plastic, batteries and some othe equipments at one end and produce saveral equally capable and working and cellphones at the other end. This machine has it's own attribute like dimention, power input, etc. They have smaller devices within the big machine, one molds the body of the phone, one manufactures the PCB, one manufacture the lcd, finally one device assembles all the parts with the battery and passes on to the next device that loads the OS into the cellphone. \n",
    "\n",
    "\n",
    "Once the cellphone is ready it has it's own dimentions, battery life, resolution, os version etc. \n",
    "\n",
    "\n",
    "This big machine is like the class, machines dimentions and all are it's attributes. The smaller devices that does several tasks are like the class methods. When this methods work on the metal casing to give it the shape of mobile phone. this method is applying some action on the casing to change it into something else. but unlike the devices big machine is assembling the pieces and applying some methods and producing several products. That is a little bit different. which makes it a class. while we discuss more features of the class we will come accross many other concepts and compare that with the cellphone building machine. \n",
    "\n",
    "The other example we will discuss by the time we reach to the end of the tutorial."
   ]
  },
  {
   "cell_type": "code",
   "execution_count": 2,
   "metadata": {},
   "outputs": [
    {
     "name": "stdout",
     "output_type": "stream",
     "text": [
      "<__main__.Myclass object at 0x106570748>\n",
      "<class '__main__.Myclass'>\n"
     ]
    }
   ],
   "source": [
    "# Definition\n",
    "class Myclass:\n",
    "    pass\n",
    "\n",
    "# Instatiation\n",
    "x = Myclass()\n",
    "\n",
    "# object of MyClass\n",
    "print(x)\n",
    "\n",
    "# Type(class) of the object\n",
    "print(type(x))"
   ]
  },
  {
   "cell_type": "code",
   "execution_count": 9,
   "metadata": {},
   "outputs": [
    {
     "name": "stdout",
     "output_type": "stream",
     "text": [
      "<class '__main__.MyClass'>\n",
      "10\n",
      "<__main__.MyClass object at 0x10665a898>\n",
      "10\n",
      "5\n",
      "Hello World\n",
      "5 6 7\n"
     ]
    }
   ],
   "source": [
    "# Definition\n",
    "class MyClass:\n",
    "    # static attribute\n",
    "    x = 10\n",
    "    \n",
    "    # Initialise method, can be treated as constructor\n",
    "    def __init__(self, p, q, r, *args, **kwargs):\n",
    "        # class attribute (member)\n",
    "        self.y = 5\n",
    "        self.p = p\n",
    "        self.q = q\n",
    "        self.r = r\n",
    "        \n",
    "    # class member method\n",
    "    def sayhi(self, x):\n",
    "        print(\"Hello World\")\n",
    "        return self.y, x\n",
    "\n",
    "# instatiation\n",
    "z = MyClass(5, 6, 7)\n",
    "\n",
    "# class object\n",
    "print(MyClass)\n",
    "\n",
    "# static variable\n",
    "print(MyClass.x)\n",
    "\n",
    "# member attribute can not be accessed through the class\n",
    "# can only be accessed via object. Anything (attribue or method)\n",
    "# created with self is accessed via class instance only.\n",
    "\n",
    "#print(MyClass.y)\n",
    "\n",
    "# Instance and instance attributes\n",
    "print(z)\n",
    "print(z.x)\n",
    "print(z.y)\n",
    "\n",
    "# Member method invocation\n",
    "z.sayhi(100)\n",
    "print (z.p, z.q,z.r)"
   ]
  },
  {
   "cell_type": "markdown",
   "metadata": {},
   "source": [
    "### Abstraction"
   ]
  },
  {
   "cell_type": "markdown",
   "metadata": {},
   "source": [
    "Abstraction refers to the modeling of essential aspects, behaviour and characteristics of real-world problems and entities, providing a relevant subset as the definition of a programmatic structure that can realize such models. Abstraction not only contain the data attributes of such a model, but also provides interfaces with the data. An implementation of such an abstraction is the realization of that data and the interfaces that go along with it. Such a realization should remain hidden from and irrelevant to the client programmer."
   ]
  },
  {
   "cell_type": "markdown",
   "metadata": {},
   "source": [
    "### Encapsulation / Interface"
   ]
  },
  {
   "cell_type": "markdown",
   "metadata": {},
   "source": [
    "Encapsulation describes the concept of data/information hiding and providing interfaces or accessor functions to the data attributes. Direct access to data by any client, bypassing the interfaces, goes against the principles of encapsulation, but the programmer is free to allow such access. As a part of the implementation, the client should not even know how the data attributes are architected within the abstraction. In Python all class attributes are public, but names may be “mangled” to discourage unauthorized access, but otherwise not prevented. It is up to the designer to provide the appropriate interfaces to the data so that the client programmer does not have to resort to manipulating the encapsulated data attributes."
   ]
  },
  {
   "cell_type": "markdown",
   "metadata": {},
   "source": [
    "### Composition"
   ]
  },
  {
   "cell_type": "markdown",
   "metadata": {},
   "source": [
    "Composition extends our description of classes, enabling multiple yet distinct classes to be combined into a larger entity to solve a real world problem. Composition describes a singular, complex systems such as a class made up of other smaller components such as other classes, data attributes and behaviours, all of which are combined, embodying “has-a” relationships. For example, the RepairShop “has-a” Mechanic and also “has-a” Customer.\n",
    "\n",
    "Creating composite objects enables such additional functionality and makes sense because the classes have nothing in common. Each classes have it’s own namespace and behaviour. When there are more intimate relations between objects, the concept of derivation may make more sense in your application, especially if you require like objects, with slightly different functionality.\n"
   ]
  },
  {
   "cell_type": "code",
   "execution_count": 3,
   "metadata": {},
   "outputs": [
    {
     "name": "stdout",
     "output_type": "stream",
     "text": [
      "12\n",
      "8\n",
      "20\n",
      "5.0\n",
      "100\n",
      "<__main__.Math object at 0x106586748>\n",
      "<__main__.Math1 object at 0x1065867f0>\n",
      "<__main__.Math2 object at 0x106586780>\n"
     ]
    }
   ],
   "source": [
    "class Math1:\n",
    "    \n",
    "    def __init__(self, x, y):\n",
    "        self.x = x\n",
    "        self.y = y\n",
    "    \n",
    "    def add(self):\n",
    "        return self.x + self.y\n",
    "    \n",
    "    def subtract(self):\n",
    "        return self.x - self.y\n",
    "    \n",
    "\n",
    "class Math2:\n",
    "    \n",
    "    def __init__(self, x, y):\n",
    "        self.x = x\n",
    "        self.y = y\n",
    "    \n",
    "    def multiply(self):\n",
    "        return self.x * self.y\n",
    "    \n",
    "    def devide(self):\n",
    "        return self.x / self.y\n",
    "    \n",
    "class Math:\n",
    "    \n",
    "    def __init__(self, x, y):\n",
    "        self.x = x\n",
    "        self.y = y\n",
    "        self.m1 = Math1(x, y)\n",
    "        self.m2 = Math2(x, y)\n",
    "    \n",
    "    def add(self):\n",
    "        return self.m1.add()\n",
    "    \n",
    "    def multiply(self):\n",
    "        return self.m2.multiply()\n",
    "    \n",
    "    def power(self):\n",
    "        return self.x ** self.y\n",
    "    \n",
    "\n",
    "obj = Math(10, 2)\n",
    "print(obj.add())\n",
    "print(obj.m1.subtract())\n",
    "print(obj.multiply())\n",
    "print(obj.m2.devide())\n",
    "print(obj.power())\n",
    "print(obj)\n",
    "print(obj.m1)\n",
    "print(obj.m2)\n"
   ]
  },
  {
   "cell_type": "markdown",
   "metadata": {},
   "source": [
    "### Inheritance"
   ]
  },
  {
   "cell_type": "markdown",
   "metadata": {},
   "source": [
    "Composition works fine when classes are distinct and are a required component of a larger class, But when you need the same class with a small change in its behaviour derivation/Inheritance comes handy."
   ]
  },
  {
   "cell_type": "raw",
   "metadata": {},
   "source": [
    "Inheritance passes all the features of the parent to the child so that you can use abstract parent features along with some extra features.\n",
    "\n",
    "Below is a case of inheritance explaining here,\n",
    "\n",
    "  Person\n",
    "    |\n",
    "   \\|/\n",
    "  Student\n",
    "\n",
    "The parent_method can be accessed by the Student object but student_method can not be accessed by the Person object."
   ]
  },
  {
   "cell_type": "code",
   "execution_count": 4,
   "metadata": {},
   "outputs": [
    {
     "name": "stdout",
     "output_type": "stream",
     "text": [
      "Parent\n",
      "Student\n",
      "Parent\n",
      "(<class 'object'>,)\n",
      "(<class '__main__.Person'>,)\n"
     ]
    }
   ],
   "source": [
    "class Person:\n",
    "\n",
    "    def parent_method(self):\n",
    "        print('Parent')\n",
    "\n",
    "class Student(Person):\n",
    "\n",
    "    def student_method(self):\n",
    "        print('Student')\n",
    "\n",
    "\n",
    "p = Person()\n",
    "s = Student()\n",
    "\n",
    "p.parent_method()\n",
    "s.student_method()\n",
    "s.parent_method()\n",
    "\n",
    "print(Person.__bases__)\n",
    "print(Student.__bases__)"
   ]
  },
  {
   "cell_type": "raw",
   "metadata": {},
   "source": [
    "One more example explaing how one method of a parent class can be can be overriden by the child class. The super can be used to call the appropriate paraent method by the language itself."
   ]
  },
  {
   "cell_type": "code",
   "execution_count": 5,
   "metadata": {},
   "outputs": [
    {
     "name": "stdout",
     "output_type": "stream",
     "text": [
      "Parent\n",
      "Student\n",
      "Parent\n"
     ]
    }
   ],
   "source": [
    "class Parent:\n",
    "    def sayhi(self):\n",
    "        print('Parent')\n",
    "\n",
    "\n",
    "class Student1(Parent):\n",
    "    def sayhi(self):\n",
    "        print('Student')\n",
    "\n",
    "        \n",
    "class Student2(Parent):\n",
    "    def sayhi(self):\n",
    "        super(Student2, self).sayhi()\n",
    "        \n",
    "\n",
    "p = Parent()\n",
    "s1 = Student1()\n",
    "s2 = Student2()\n",
    "\n",
    "p.sayhi()\n",
    "s1.sayhi()\n",
    "s2.sayhi()"
   ]
  },
  {
   "cell_type": "markdown",
   "metadata": {},
   "source": [
    "### Method Resolution Order (MRO)"
   ]
  },
  {
   "cell_type": "markdown",
   "metadata": {},
   "source": [
    "In many languages it is not allowed to have multiple inheritances(Same thing is handled in different ways). But in python you can directly inherit more than one class. Incase of direct inheritance it is very easy to override or call the parent method, but in case where multiple classes are inherited with multiple level and more than one parent have method with same name but doing different work how is it going to determine which method to call when it is called from the child.\n",
    "\n",
    "Here comes Method resolution order. There are a set of rules that the compiler follows and determines which method to call. Let me give a scenario and explain it below.\n",
    "\n",
    "        P1(foo)   -------------------P2(foo, bar)\n",
    "          |   |___|_________            |\n",
    "          |       |         |           |\n",
    "          -------A1()       A2(bar)------  \n",
    "                   |          |\n",
    "                   |          |\n",
    "                   |___GC()___|\n",
    "                   \n",
    "In the above scenario, P1 is a class having a method foo. P2 is a class having 2 methods foo and bar. A1 is inherited from P1 and P2. A2 is inherited from P1 and P2 and it overrides the bar method from P2. GC is inherited from A1 and A2. \n",
    "\n",
    "Now if you try to call method bar from gc object. It will first search in GC, it will not find it. Then it will go to A1 it wont find bar. then it will check for A2 as A2 is the next immidiate parent. It will find bar and executes it.\n",
    "\n",
    "In older version of python and in Old style classes of python 2.x, if you call bar from gc it will do a depth first traversal and find the bar method of P2 instead of A2."
   ]
  },
  {
   "cell_type": "code",
   "execution_count": 1,
   "metadata": {},
   "outputs": [
    {
     "name": "stdout",
     "output_type": "stream",
     "text": [
      "a2-bar\n"
     ]
    }
   ],
   "source": [
    "class P1:\n",
    "    def foo(self):\n",
    "        print('p1-foo')\n",
    "\n",
    "class P2:\n",
    "    def foo(self):\n",
    "        print('p2-foo')\n",
    "    \n",
    "    def bar(self):\n",
    "        print('p2-bar')\n",
    "        \n",
    "class A1(P1, P2):\n",
    "    pass\n",
    "\n",
    "class A2(P1, P2):\n",
    "    def bar(self):\n",
    "        print('a2-bar')\n",
    "        \n",
    "class GC(A1, A2):\n",
    "    pass\n",
    "\n",
    "gc = GC()\n",
    "gc.bar()"
   ]
  },
  {
   "cell_type": "markdown",
   "metadata": {},
   "source": [
    "##### Diamond Problem"
   ]
  },
  {
   "cell_type": "raw",
   "metadata": {},
   "source": [
    "This is also a problem that existed in older version of python. with new style classes when you inherit a class with 2 different class. one of then has default init and one of them has modified init. Now when the child is instantiated it takes the init of object instead of the parent. This problem was resolved in python3.x\n",
    "\n",
    "                               object\n",
    "                               /    \\\n",
    "                              /      \\\n",
    "                             /        \\\n",
    "                            A1         A2(__init__: self.x=5)\n",
    "                             \\         /\n",
    "                              \\       /\n",
    "                               \\     /\n",
    "                                \\   /\n",
    "                                  C\n",
    "c = C()\n",
    "c.x  # error x is referenced before assignment"
   ]
  },
  {
   "cell_type": "markdown",
   "metadata": {},
   "source": [
    "### Generalization/Specialization"
   ]
  },
  {
   "cell_type": "markdown",
   "metadata": {},
   "source": [
    "Generalization describes all traits a subclass has with it’s parent and ancestor classes, so subclasses are considered to have “is-a” relationship with ancestor classes because a derived object(instance) is an example of an ancestor class. For example, a Mechanic “is-a” Person, a car “is-a” Vehicle, etc. In the family tree diagram we alluded to above, we can draw lines from subclasses to ancestors indicating “is-a” relationship. Specialization is the term that describes all the customization of a subclass, ie what attributes make it differ from its ancestor classes."
   ]
  },
  {
   "cell_type": "markdown",
   "metadata": {},
   "source": [
    "### Polymorphism"
   ]
  },
  {
   "cell_type": "markdown",
   "metadata": {},
   "source": [
    "The concept of polymorphism describes how objects can be manipulated and accessed using attributes and behaviours they have in common. Without regard to their specific class. Polymorphism indicates the presence of dynamic binding, allowing for overriding and runtime type determination and verification."
   ]
  },
  {
   "cell_type": "code",
   "execution_count": 8,
   "metadata": {},
   "outputs": [
    {
     "name": "stdout",
     "output_type": "stream",
     "text": [
      "hi 5\n",
      "python binay\n",
      "5 [1, 2, 3]\n"
     ]
    }
   ],
   "source": [
    "class MyClass:\n",
    "    def sayhi(self, x=5, y='hi'):\n",
    "        return f\"{y} {x}\"\n",
    "    \n",
    "x = MyClass()\n",
    "print(x.sayhi())\n",
    "print(x.sayhi('binay', 'python'))\n",
    "print(x.sayhi([1,2,3], 5))"
   ]
  },
  {
   "cell_type": "markdown",
   "metadata": {},
   "source": [
    "In the above example. Operations are performed depending on the inputs. when input is not provided, It takes some default inputs. This is a type of polymorphism. "
   ]
  },
  {
   "cell_type": "markdown",
   "metadata": {},
   "source": [
    "### Magic Functions"
   ]
  },
  {
   "cell_type": "raw",
   "metadata": {},
   "source": [
    "There are some special methods available in python which are called magic methods. They start and end with __ (Double underscore). The best thing is there is nothing magical about these method except just the way they are called. They are not called like any other methods. for example, __init__ is called during the instatiation of the class not manually.\n",
    "\n",
    "Also few other examples are __add__, __del__, __len__ etc etc.\n",
    "putting down a few of the methods below. Look them up in the internet.\n",
    "\n",
    "Some popular magic functions are,\n",
    "\n",
    "__init__,  __new__  (Constructor of class)\n",
    "__del__             (Destructor of class)\n",
    "__str__             (string representation)\n",
    "__repr__            (class object representation)\n",
    "__unicode__         (unicode representation)\n",
    "__call__            (called when any member method is invoked)\n",
    "__len__             (Gives length of a sequence)\n",
    "__add__             (sum)\n",
    "__cmp__             (compare)"
   ]
  },
  {
   "cell_type": "markdown",
   "metadata": {},
   "source": [
    "You can check all the methods and variable available for anything with dir."
   ]
  },
  {
   "cell_type": "code",
   "execution_count": 46,
   "metadata": {},
   "outputs": [
    {
     "data": {
      "text/plain": [
       "['__add__',\n",
       " '__class__',\n",
       " '__contains__',\n",
       " '__delattr__',\n",
       " '__delitem__',\n",
       " '__dir__',\n",
       " '__doc__',\n",
       " '__eq__',\n",
       " '__format__',\n",
       " '__ge__',\n",
       " '__getattribute__',\n",
       " '__getitem__',\n",
       " '__gt__',\n",
       " '__hash__',\n",
       " '__iadd__',\n",
       " '__imul__',\n",
       " '__init__',\n",
       " '__init_subclass__',\n",
       " '__iter__',\n",
       " '__le__',\n",
       " '__len__',\n",
       " '__lt__',\n",
       " '__mul__',\n",
       " '__ne__',\n",
       " '__new__',\n",
       " '__reduce__',\n",
       " '__reduce_ex__',\n",
       " '__repr__',\n",
       " '__reversed__',\n",
       " '__rmul__',\n",
       " '__setattr__',\n",
       " '__setitem__',\n",
       " '__sizeof__',\n",
       " '__str__',\n",
       " '__subclasshook__',\n",
       " 'append',\n",
       " 'clear',\n",
       " 'copy',\n",
       " 'count',\n",
       " 'extend',\n",
       " 'index',\n",
       " 'insert',\n",
       " 'pop',\n",
       " 'remove',\n",
       " 'reverse',\n",
       " 'sort']"
      ]
     },
     "execution_count": 46,
     "metadata": {},
     "output_type": "execute_result"
    }
   ],
   "source": [
    "dir(list)"
   ]
  },
  {
   "cell_type": "markdown",
   "metadata": {},
   "source": [
    "### Method Overriding"
   ]
  },
  {
   "cell_type": "markdown",
   "metadata": {},
   "source": [
    "Method Overriding can be achieved with inheritance, when you overload a method to do your own actions. explaining below."
   ]
  },
  {
   "cell_type": "code",
   "execution_count": 2,
   "metadata": {},
   "outputs": [
    {
     "name": "stdout",
     "output_type": "stream",
     "text": [
      "[]\n",
      "[5]\n",
      "[5, 6]\n",
      "---------\n",
      "[]\n",
      "(5,)\n",
      "[]\n",
      "[6]\n"
     ]
    }
   ],
   "source": [
    "a = list()\n",
    "print(a)\n",
    "a.append(5)\n",
    "print(a)\n",
    "a.extend([6])\n",
    "print(a)\n",
    "\n",
    "print('---------')\n",
    "class NewList(list):\n",
    "    def append(self, *args, **kwargs):\n",
    "        # instead of appending it will print the args\n",
    "        print(args)\n",
    "        \n",
    "\n",
    "b = NewList()\n",
    "print(b)\n",
    "b.append(5)\n",
    "print(b)\n",
    "b.extend([6])\n",
    "print(b)"
   ]
  },
  {
   "cell_type": "markdown",
   "metadata": {},
   "source": [
    "### Operator Overloading"
   ]
  },
  {
   "cell_type": "markdown",
   "metadata": {},
   "source": [
    "Operator overriding not really possible in python, but for customized types you are allowed to overload any operator, explaining below."
   ]
  },
  {
   "cell_type": "code",
   "execution_count": 45,
   "metadata": {},
   "outputs": [
    {
     "name": "stdout",
     "output_type": "stream",
     "text": [
      "123 <class 'int'>\n",
      "123 <class '__main__.NewStr'>\n",
      "123abc\n"
     ]
    }
   ],
   "source": [
    "# Creating new type nstr by inheriting str\n",
    "class NewStr(str):\n",
    "    # Override sum method\n",
    "    def __add__(self, *args, **kwargs):\n",
    "        x = [self]\n",
    "        x.extend(args)\n",
    "        return ''.join(x)\n",
    "\n",
    "# prints integer\n",
    "x = 123\n",
    "print(x, type(x))\n",
    "\n",
    "# casts int into NewStr\n",
    "x = NewStr(x)\n",
    "print(x, type(x))\n",
    "\n",
    "# overriden method\n",
    "x = NewStr('123') \n",
    "y = NewStr('abc')\n",
    "z = x + y\n",
    "print(z)"
   ]
  },
  {
   "cell_type": "markdown",
   "metadata": {},
   "source": [
    "### Built-in Functions\n"
   ]
  },
  {
   "cell_type": "markdown",
   "metadata": {},
   "source": [
    "There are many builtin functions available in available in python. I am going to describe a few you should look for other builtin functions."
   ]
  },
  {
   "cell_type": "raw",
   "metadata": {},
   "source": [
    "# Returns True if sub is subclass of superclass, False otherwise\n",
    "issubclass(subclass, superclass)         \n",
    "\n",
    "# Returns True if obj1 is instance of class obj2, or subclass of obj2 or type of obj2.\n",
    "isinstance(obj1, obj2)\n",
    "\n",
    "# Returns True if obj has attribute attr.\n",
    "hasattr(obj, attr)\n",
    "\n",
    "# Retrieves attr of the object, if not found AttributeError is raised.\n",
    "getattr(obj, attr, [, default])\n",
    "\n",
    "# Sets attribute of obj to val overriding the previous values.\n",
    "setattr(obj, attr, val)\n",
    "\n",
    "# Deletes the attribute of the obj\n",
    "delattr(obj, attr)\n",
    "\n",
    "# Returns a list of attributes of obj. If obj is None, it displays local namespaces of attr.\n",
    "dir(obj=None)\n",
    "\n",
    "# Returns a dictionary of attr and values of obj.\n",
    "vars(obj=None)\n",
    "\n",
    "# Returns a proxy object representing the super class.\n",
    "super(type, obj=None)"
   ]
  },
  {
   "cell_type": "code",
   "execution_count": 3,
   "metadata": {},
   "outputs": [
    {
     "name": "stdout",
     "output_type": "stream",
     "text": [
      "True\n",
      "False\n"
     ]
    }
   ],
   "source": [
    "print(isinstance([], list))\n",
    "\n",
    "print(isinstance((5,),list))"
   ]
  },
  {
   "cell_type": "code",
   "execution_count": 21,
   "metadata": {},
   "outputs": [
    {
     "name": "stdout",
     "output_type": "stream",
     "text": [
      "True\n",
      "False\n"
     ]
    }
   ],
   "source": [
    "print(hasattr(list, 'append'))\n",
    "print(hasattr(list, 'sayhi'))"
   ]
  },
  {
   "cell_type": "code",
   "execution_count": 23,
   "metadata": {},
   "outputs": [
    {
     "data": {
      "text/plain": [
       "mappingproxy({'__add__': <slot wrapper '__add__' of 'list' objects>,\n",
       "              '__contains__': <slot wrapper '__contains__' of 'list' objects>,\n",
       "              '__delitem__': <slot wrapper '__delitem__' of 'list' objects>,\n",
       "              '__doc__': \"list() -> new empty list\\nlist(iterable) -> new list initialized from iterable's items\",\n",
       "              '__eq__': <slot wrapper '__eq__' of 'list' objects>,\n",
       "              '__ge__': <slot wrapper '__ge__' of 'list' objects>,\n",
       "              '__getattribute__': <slot wrapper '__getattribute__' of 'list' objects>,\n",
       "              '__getitem__': <method '__getitem__' of 'list' objects>,\n",
       "              '__gt__': <slot wrapper '__gt__' of 'list' objects>,\n",
       "              '__hash__': None,\n",
       "              '__iadd__': <slot wrapper '__iadd__' of 'list' objects>,\n",
       "              '__imul__': <slot wrapper '__imul__' of 'list' objects>,\n",
       "              '__init__': <slot wrapper '__init__' of 'list' objects>,\n",
       "              '__iter__': <slot wrapper '__iter__' of 'list' objects>,\n",
       "              '__le__': <slot wrapper '__le__' of 'list' objects>,\n",
       "              '__len__': <slot wrapper '__len__' of 'list' objects>,\n",
       "              '__lt__': <slot wrapper '__lt__' of 'list' objects>,\n",
       "              '__mul__': <slot wrapper '__mul__' of 'list' objects>,\n",
       "              '__ne__': <slot wrapper '__ne__' of 'list' objects>,\n",
       "              '__new__': <function list.__new__>,\n",
       "              '__repr__': <slot wrapper '__repr__' of 'list' objects>,\n",
       "              '__reversed__': <method '__reversed__' of 'list' objects>,\n",
       "              '__rmul__': <slot wrapper '__rmul__' of 'list' objects>,\n",
       "              '__setitem__': <slot wrapper '__setitem__' of 'list' objects>,\n",
       "              '__sizeof__': <method '__sizeof__' of 'list' objects>,\n",
       "              'append': <method 'append' of 'list' objects>,\n",
       "              'clear': <method 'clear' of 'list' objects>,\n",
       "              'copy': <method 'copy' of 'list' objects>,\n",
       "              'count': <method 'count' of 'list' objects>,\n",
       "              'extend': <method 'extend' of 'list' objects>,\n",
       "              'index': <method 'index' of 'list' objects>,\n",
       "              'insert': <method 'insert' of 'list' objects>,\n",
       "              'pop': <method 'pop' of 'list' objects>,\n",
       "              'remove': <method 'remove' of 'list' objects>,\n",
       "              'reverse': <method 'reverse' of 'list' objects>,\n",
       "              'sort': <method 'sort' of 'list' objects>})"
      ]
     },
     "execution_count": 23,
     "metadata": {},
     "output_type": "execute_result"
    }
   ],
   "source": [
    "vars(list)"
   ]
  },
  {
   "cell_type": "markdown",
   "metadata": {},
   "source": [
    "### Access Control"
   ]
  },
  {
   "cell_type": "markdown",
   "metadata": {},
   "source": [
    "By default all methods and members of a class are public in python. However you can change the behaviour of certain members of a class by representing them in a different way.\n",
    "\n",
    "If you name a method or member variable starts with __ (double underscore) it becomes a private member and hence can not be accessed ouside of the class, can only be accessed within the class.\n",
    "\n",
    "If you put _ before the member's name it becomes protected and will not be visible outside of the class to the client side developers."
   ]
  },
  {
   "cell_type": "code",
   "execution_count": 30,
   "metadata": {},
   "outputs": [
    {
     "name": "stdout",
     "output_type": "stream",
     "text": [
      "Public: 5\n",
      "Protected: 50\n",
      "Private: 500\n"
     ]
    },
    {
     "ename": "AttributeError",
     "evalue": "'MyClass' object has no attribute '__a'",
     "output_type": "error",
     "traceback": [
      "\u001b[0;31m---------------------------------------------------------------------------\u001b[0m",
      "\u001b[0;31mAttributeError\u001b[0m                            Traceback (most recent call last)",
      "\u001b[0;32m<ipython-input-30-46bf9bbc9ecc>\u001b[0m in \u001b[0;36m<module>\u001b[0;34m()\u001b[0m\n\u001b[1;32m     13\u001b[0m \u001b[0mprint\u001b[0m\u001b[0;34m(\u001b[0m\u001b[0;34m'Protected:'\u001b[0m\u001b[0;34m,\u001b[0m \u001b[0mm\u001b[0m\u001b[0;34m.\u001b[0m\u001b[0m_a\u001b[0m\u001b[0;34m)\u001b[0m\u001b[0;34m\u001b[0m\u001b[0m\n\u001b[1;32m     14\u001b[0m \u001b[0mprint\u001b[0m\u001b[0;34m(\u001b[0m\u001b[0;34m'Private:'\u001b[0m\u001b[0;34m,\u001b[0m \u001b[0mm\u001b[0m\u001b[0;34m.\u001b[0m\u001b[0mget_a\u001b[0m\u001b[0;34m(\u001b[0m\u001b[0;34m)\u001b[0m\u001b[0;34m)\u001b[0m\u001b[0;34m\u001b[0m\u001b[0m\n\u001b[0;32m---> 15\u001b[0;31m \u001b[0mprint\u001b[0m\u001b[0;34m(\u001b[0m\u001b[0mm\u001b[0m\u001b[0;34m.\u001b[0m\u001b[0m__a\u001b[0m\u001b[0;34m)\u001b[0m \u001b[0;31m# not accessed outside\u001b[0m\u001b[0;34m\u001b[0m\u001b[0m\n\u001b[0m",
      "\u001b[0;31mAttributeError\u001b[0m: 'MyClass' object has no attribute '__a'"
     ]
    }
   ],
   "source": [
    "class MyClass(object):\n",
    "    def __init__(self):\n",
    "        self.a = 5\n",
    "        self._a = 50\n",
    "        self.__a = 500\n",
    "        \n",
    "    def get_a(self):\n",
    "        # Member functions can access private attrs not from outside\n",
    "        return self.__a\n",
    "\n",
    "m = MyClass()\n",
    "print('Public:', m.a)\n",
    "print('Protected:', m._a)\n",
    "print('Private:', m.get_a())\n",
    "print(m.__a) # not accessed outside\n"
   ]
  },
  {
   "cell_type": "code",
   "execution_count": null,
   "metadata": {},
   "outputs": [],
   "source": [
    "# Hit tab to see options\n",
    "m."
   ]
  },
  {
   "cell_type": "markdown",
   "metadata": {},
   "source": [
    "Even if private attributes are not accessible from outside of the class there is a way to mangle the value of the that attribute from outside. explaing below."
   ]
  },
  {
   "cell_type": "code",
   "execution_count": 31,
   "metadata": {},
   "outputs": [
    {
     "name": "stdout",
     "output_type": "stream",
     "text": [
      "500\n",
      "python\n",
      "python\n"
     ]
    }
   ],
   "source": [
    "print(m._MyClass__a)\n",
    "m._MyClass__a = 'python'\n",
    "print(m._MyClass__a)\n",
    "print(m.get_a())"
   ]
  },
  {
   "cell_type": "markdown",
   "metadata": {},
   "source": [
    "### Delegation"
   ]
  },
  {
   "cell_type": "markdown",
   "metadata": {},
   "source": [
    "Delegation provides a proxy object for any class that your want on top of the main class. It’s like a wrapper to your class so that you can access limited resources of the main class. It wraps the object of main class into a smaller object with limited access. It can be achieved with the help of composition."
   ]
  },
  {
   "cell_type": "code",
   "execution_count": 34,
   "metadata": {},
   "outputs": [
    {
     "data": {
      "text/plain": [
       "'Hello World'"
      ]
     },
     "execution_count": 34,
     "metadata": {},
     "output_type": "execute_result"
    }
   ],
   "source": [
    "class A(object):\n",
    "    def sayhi(self):\n",
    "        return 'Hello World'\n",
    "\n",
    "class B(object):\n",
    "    def __init__(self, obj):\n",
    "        self.human = obj\n",
    "\n",
    "    def welcome(self):\n",
    "        return self.human.sayhi()\n",
    "    \n",
    "b = B(A())\n",
    "b.welcome()"
   ]
  },
  {
   "cell_type": "markdown",
   "metadata": {},
   "source": [
    "### Metaclass"
   ]
  },
  {
   "cell_type": "markdown",
   "metadata": {},
   "source": [
    "Metaclasses are the classes that creates other classes.\n",
    "Does that mean every class is an object and every object is an object of object?\n",
    "\n",
    "Yes!!\n",
    "\n",
    "Type is the metaclasses usually responsible for it but you can create your own metaclass also.\n"
   ]
  },
  {
   "cell_type": "code",
   "execution_count": 37,
   "metadata": {},
   "outputs": [
    {
     "data": {
      "text/plain": [
       "<__main__.MyKlass at 0x106338320>"
      ]
     },
     "execution_count": 37,
     "metadata": {},
     "output_type": "execute_result"
    }
   ],
   "source": [
    "# https://eli.thegreenplace.net/2011/08/14/python-metaclasses-by-example\n",
    "\n",
    "class MyMeta(type):\n",
    "    def __new__(meta, name, bases, dct):\n",
    "        print ('-----------------------------------')\n",
    "        print (\"Allocating memory for class\", name)\n",
    "        print (meta)\n",
    "        print (bases)\n",
    "        print (dct)\n",
    "        return super(MyMeta, meta).__new__(meta, name, bases, dct)\n",
    "    def __init__(cls, name, bases, dct):\n",
    "        print ('-----------------------------------')\n",
    "        print (\"Initializing class\", name)\n",
    "        print (cls)\n",
    "        print (bases)\n",
    "        print (dct)\n",
    "        super(MyMeta, cls).__init__(name, bases, dct)\n",
    "        \n",
    "class MyKlass(object):\n",
    "    __metaclass__ = MyMeta\n",
    "\n",
    "    def foo(self, param):\n",
    "        pass\n",
    "\n",
    "    barattr = 2\n",
    "    \n",
    "m = MyKlass()\n",
    "m"
   ]
  }
 ],
 "metadata": {
  "kernelspec": {
   "display_name": "Python 3",
   "language": "python",
   "name": "python3"
  },
  "language_info": {
   "codemirror_mode": {
    "name": "ipython",
    "version": 3
   },
   "file_extension": ".py",
   "mimetype": "text/x-python",
   "name": "python",
   "nbconvert_exporter": "python",
   "pygments_lexer": "ipython3",
   "version": "3.6.1"
  }
 },
 "nbformat": 4,
 "nbformat_minor": 2
}

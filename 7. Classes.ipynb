{
 "cells": [
  {
   "cell_type": "markdown",
   "metadata": {},
   "source": [
    "# Classes and Instances"
   ]
  },
  {
   "cell_type": "markdown",
   "metadata": {},
   "source": [
    "Classes are like the blueprints that build of saveral items. I will explain all the OOP scenarios with 2 different examples. Lets start with the first one.\n",
    "\n",
    "Cellphone manufacturing machine.\n",
    "------------------------------\n",
    "Let imagine we have a machine that manufactures cellphones. This machine takes metal, plastic, batteries and some othe equipments at one end and produce saveral equally capable and working and cellphones at the other end. This machine has it's own attribute like dimention, power input, etc. They have smaller devices within the big machine, one molds the body of the phone, one manufactures the PCB, one manufacture the lcd, finally one device assembles all the parts with the battery and passes on to the next device that loads the OS into the cellphone. \n",
    "\n",
    "\n",
    "Once the cellphone is ready it has it's own dimentions, battery life, resolution, os version etc. \n",
    "\n",
    "\n",
    "This big machine is like the class, machines dimentions and all are it's attributes. The smaller devices that does several tasks are like the class methods. When this methods work on the metal casing to give it the shape of mobile phone. this method is applying some action on the casing to change it into something else. but unlike the devices big machine is assembling the pieces and applying some methods and producing several products. That is a little bit different. which makes it a class. while we discuss more features of the class we will come accross many other concepts and compare that with the cellphone building machine. \n",
    "\n",
    "The other example we will discuss by the time we reach to the end of the tutorial."
   ]
  },
  {
   "cell_type": "raw",
   "metadata": {},
   "source": [
    "Below is the Syntax of class in python\n",
    "\n",
    "Old style classes\n",
    "------------------\n",
    "class Myclass:\n",
    "    pass\n",
    "\n",
    "New Style classes\n",
    "------------------\n",
    "class MyClass2(object):\n",
    "    pass"
   ]
  },
  {
   "cell_type": "markdown",
   "metadata": {},
   "source": [
    "There are 2 types of class definition in python, both are mentioned above.\n",
    "old style classes have some flaws that we will discuss when we will discuss about Inheritance and MRO. To Overcome those issue the new style classes in python2.2. You should always use new style classes to avoid saveral issue and get upto date with the latest updates provided by phython community."
   ]
  },
  {
   "cell_type": "code",
   "execution_count": 1,
   "metadata": {},
   "outputs": [
    {
     "name": "stdout",
     "output_type": "stream",
     "text": [
      "<__main__.Myclass object at 0x106562198>\n",
      "<class '__main__.Myclass'>\n"
     ]
    }
   ],
   "source": [
    "# Definition\n",
    "class Myclass(object):\n",
    "    pass\n",
    "\n",
    "# Instatiation\n",
    "x = Myclass()\n",
    "\n",
    "# object of MyClass\n",
    "print(x)\n",
    "\n",
    "# Type(class) of the object\n",
    "print(type(x))"
   ]
  },
  {
   "cell_type": "code",
   "execution_count": 9,
   "metadata": {},
   "outputs": [
    {
     "name": "stdout",
     "output_type": "stream",
     "text": [
      "<class '__main__.MyClass'>\n",
      "10\n",
      "<__main__.MyClass object at 0x10665a898>\n",
      "10\n",
      "5\n",
      "Hello World\n",
      "5 6 7\n"
     ]
    }
   ],
   "source": [
    "# Definition\n",
    "class MyClass(object):\n",
    "    # static attribute\n",
    "    x = 10\n",
    "    \n",
    "    # Initialise method, can be treated as constructor\n",
    "    def __init__(self, p, q, r, *args, **kwargs):\n",
    "        # class attribute (member)\n",
    "        self.y = 5\n",
    "        self.p = p\n",
    "        self.q = q\n",
    "        self.r = r\n",
    "        \n",
    "    # class member method\n",
    "    def sayhi(self, x):\n",
    "        print(\"Hello World\")\n",
    "        return self.y, x\n",
    "\n",
    "# instatiation\n",
    "z = MyClass(5, 6, 7)\n",
    "\n",
    "# class object\n",
    "print(MyClass)\n",
    "\n",
    "# static variable\n",
    "print(MyClass.x)\n",
    "\n",
    "# member attribute can not be accessed through the class\n",
    "# can only be accessed via object. Anything (attribue or method)\n",
    "# created with self is accessed via class instance only.\n",
    "\n",
    "#print(MyClass.y)\n",
    "\n",
    "# Instance and instance attributes\n",
    "print(z)\n",
    "print(z.x)\n",
    "print(z.y)\n",
    "\n",
    "# Member method invocation\n",
    "z.sayhi(100)\n",
    "print (z.p, z.q,z.r)"
   ]
  },
  {
   "cell_type": "markdown",
   "metadata": {},
   "source": [
    "### Abstraction"
   ]
  },
  {
   "cell_type": "markdown",
   "metadata": {},
   "source": [
    "Abstraction refers to the modeling of essential aspects, behaviour and characteristics of real-world problems and entities, providing a relevant subset as the definition of a programmatic structure that can realize such models. Abstraction not only contain the data attributes of such a model, but also provides interfaces with the data. An implementation of such an abstraction is the realization of that data and the interfaces that go along with it. Such a realization should remain hidden from and irrelevant to the client programmer."
   ]
  },
  {
   "cell_type": "markdown",
   "metadata": {},
   "source": [
    "### Encapsulation / Interface"
   ]
  },
  {
   "cell_type": "markdown",
   "metadata": {},
   "source": [
    "Encapsulation describes the concept of data/information hiding and providing interfaces or accessor functions to the data attributes. Direct access to data by any client, bypassing the interfaces, goes against the principles of encapsulation, but the programmer is free to allow such access. As a part of the implementation, the client should not even know how the data attributes are architected within the abstraction. In Python all class attributes are public, but names may be “mangled” to discourage unauthorized access, but otherwise not prevented. It is up to the designer to provide the appropriate interfaces to the data so that the client programmer does not have to resort to manipulating the encapsulated data attributes."
   ]
  },
  {
   "cell_type": "markdown",
   "metadata": {},
   "source": [
    "### Composition"
   ]
  },
  {
   "cell_type": "markdown",
   "metadata": {},
   "source": [
    "Composition extends our description of classes, enabling multiple yet distinct classes to be combined into a larger entity to solve a real world problem. Composition describes a singular, complex systems such as a class made up of other smaller components such as other classes, data attributes and behaviours, all of which are combined, embodying “has-a” relationships. For example, the RepairShop “has-a” Mechanic and also “has-a” Customer.\n",
    "\n",
    "Creating composite objects enables such additional functionality and makes sense because the classes have nothing in common. Each classes have it’s own namespace and behaviour. When there are more intimate relations between objects, the concept of derivation may make more sense in your application, especially if you require like objects, with slightly different functionality.\n"
   ]
  },
  {
   "cell_type": "code",
   "execution_count": 1,
   "metadata": {},
   "outputs": [
    {
     "name": "stdout",
     "output_type": "stream",
     "text": [
      "12\n",
      "8\n",
      "20\n",
      "5.0\n",
      "100\n",
      "<__main__.Math object at 0x1064075f8>\n",
      "<__main__.Math1 object at 0x106407828>\n",
      "<__main__.Math2 object at 0x106407b38>\n"
     ]
    }
   ],
   "source": [
    "class Math1(object):\n",
    "    \n",
    "    def __init__(self, x, y):\n",
    "        self.x = x\n",
    "        self.y = y\n",
    "    \n",
    "    def add(self):\n",
    "        return self.x + self.y\n",
    "    \n",
    "    def subtract(self):\n",
    "        return self.x - self.y\n",
    "    \n",
    "\n",
    "class Math2(object):\n",
    "    \n",
    "    def __init__(self, x, y):\n",
    "        self.x = x\n",
    "        self.y = y\n",
    "    \n",
    "    def multiply(self):\n",
    "        return self.x * self.y\n",
    "    \n",
    "    def devide(self):\n",
    "        return self.x / self.y\n",
    "    \n",
    "class Math(object):\n",
    "    \n",
    "    def __init__(self, x, y):\n",
    "        self.x = x\n",
    "        self.y = y\n",
    "        self.m1 = Math1(x, y)\n",
    "        self.m2 = Math2(x, y)\n",
    "    \n",
    "    def add(self):\n",
    "        return self.m1.add()\n",
    "    \n",
    "    def multiply(self):\n",
    "        return self.m2.multiply()\n",
    "    \n",
    "    def power(self):\n",
    "        return self.x ** self.y\n",
    "    \n",
    "\n",
    "obj = Math(10, 2)\n",
    "print(obj.add())\n",
    "print(obj.m1.subtract())\n",
    "print(obj.multiply())\n",
    "print(obj.m2.devide())\n",
    "print(obj.power())\n",
    "print(obj)\n",
    "print(obj.m1)\n",
    "print(obj.m2)\n"
   ]
  },
  {
   "cell_type": "markdown",
   "metadata": {},
   "source": [
    "### Inheritance"
   ]
  },
  {
   "cell_type": "markdown",
   "metadata": {},
   "source": [
    "Composition works fine when classes are distinct and are a required component of a larger class, But when you need the same class with a small change in its behaviour derivation/Inheritance comes handy."
   ]
  },
  {
   "cell_type": "code",
   "execution_count": 3,
   "metadata": {},
   "outputs": [
    {
     "name": "stdout",
     "output_type": "stream",
     "text": [
      "Parent\n",
      "Student\n",
      "Parent\n",
      "(<class 'object'>,)\n",
      "(<class '__main__.Person'>,)\n"
     ]
    }
   ],
   "source": [
    "class Person(object):\n",
    "\n",
    "    def parent_method(self):\n",
    "        print('Parent')\n",
    "\n",
    "class Student(Person):\n",
    "\n",
    "    def student_method(self):\n",
    "        print('Student')\n",
    "\n",
    "\n",
    "p = Person()\n",
    "s = Student()\n",
    "\n",
    "p.parent_method()\n",
    "s.student_method()\n",
    "s.parent_method()\n",
    "\n",
    "print(Person.__bases__)\n",
    "print(Student.__bases__)"
   ]
  },
  {
   "cell_type": "code",
   "execution_count": 4,
   "metadata": {},
   "outputs": [
    {
     "name": "stdout",
     "output_type": "stream",
     "text": [
      "Parent\n",
      "Student\n",
      "Parent\n"
     ]
    }
   ],
   "source": [
    "class Parent(object):\n",
    "    def sayhi(self):\n",
    "        print('Parent')\n",
    "\n",
    "\n",
    "class Student1(Parent):\n",
    "    def sayhi(self):\n",
    "        print('Student')\n",
    "\n",
    "        \n",
    "class Student2(Parent):\n",
    "    def sayhi(self):\n",
    "        super(Student2, self).sayhi()\n",
    "        \n",
    "\n",
    "p = Parent()\n",
    "s1 = Student1()\n",
    "s2 = Student2()\n",
    "\n",
    "p.sayhi()\n",
    "s1.sayhi()\n",
    "s2.sayhi()"
   ]
  },
  {
   "cell_type": "markdown",
   "metadata": {},
   "source": [
    "### Method Resolution Order (MRO)"
   ]
  },
  {
   "cell_type": "code",
   "execution_count": null,
   "metadata": {},
   "outputs": [],
   "source": []
  }
 ],
 "metadata": {
  "kernelspec": {
   "display_name": "Python 3",
   "language": "python",
   "name": "python3"
  },
  "language_info": {
   "codemirror_mode": {
    "name": "ipython",
    "version": 3
   },
   "file_extension": ".py",
   "mimetype": "text/x-python",
   "name": "python",
   "nbconvert_exporter": "python",
   "pygments_lexer": "ipython3",
   "version": "3.6.1"
  }
 },
 "nbformat": 4,
 "nbformat_minor": 2
}

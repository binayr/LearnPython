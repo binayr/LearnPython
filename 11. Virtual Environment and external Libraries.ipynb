{
 "cells": [
  {
   "cell_type": "markdown",
   "metadata": {},
   "source": [
    "## Virtual Environment"
   ]
  },
  {
   "cell_type": "markdown",
   "metadata": {},
   "source": [
    "When we install python the application is saved on the forllowing path..\n",
    "\n",
    "`linux: /usr/bin/python\n",
    "windows: C:\\Python27\\ (3x for python 3.x)`\n",
    "\n",
    "We can install 3rd party libraries and frameworks depending on our need. Python has a library called pip (python installation package) that helps you install those packages. You can install them using the command,\n",
    "\n",
    "`pip install appname`\n",
    "\n",
    "when we install some libraries using pip it is saved in the following path,\n",
    "\n",
    "`linux: /usr/local/lib/python2.7/site-packages/ (3.x for python 3.x)\n",
    "windows: C:\\Python27\\Scripts (3x for python3.x)`\n",
    "\n",
    "But those libraries are always compiled through the main python file present in /usr/bin/python"
   ]
  },
  {
   "cell_type": "markdown",
   "metadata": {},
   "source": [
    "By Using virtualenv we are allowing the same computer to user different versions of same libraries for same/different python version.\n",
    "\n",
    "The virtualenv is created using the main python file and the packages are installed in the new destination directory. specifically for the project for which you have activated the virtualenv.\n",
    "\n",
    "You can install virtualenv by typing\n",
    "`pip install virtualenv`\n",
    "\n",
    "This needs to be present system wide so make you have admin/sudo access on your system."
   ]
  },
  {
   "cell_type": "markdown",
   "metadata": {},
   "source": [
    "You can install any publicly available library in your virtual env using pip using `pip install appname` command\n",
    "\n",
    "You can check all the installed libararies and their version in your current virtualenv by typing `pip freeze` or `pip list`\n",
    "\n"
   ]
  },
  {
   "cell_type": "markdown",
   "metadata": {},
   "source": [
    "You can come out of the virtualenv anytime by typing `deactivate` at anypoint of time on your terminal."
   ]
  },
  {
   "cell_type": "markdown",
   "metadata": {},
   "source": [
    "You can look into virtualenvwrapper or virtualenvwrapper-win (for windows) to make this process even more automated and helpful."
   ]
  },
  {
   "cell_type": "code",
   "execution_count": null,
   "metadata": {},
   "outputs": [],
   "source": []
  }
 ],
 "metadata": {
  "kernelspec": {
   "display_name": "Python 3",
   "language": "python",
   "name": "python3"
  },
  "language_info": {
   "codemirror_mode": {
    "name": "ipython",
    "version": 3
   },
   "file_extension": ".py",
   "mimetype": "text/x-python",
   "name": "python",
   "nbconvert_exporter": "python",
   "pygments_lexer": "ipython3",
   "version": "3.6.1"
  }
 },
 "nbformat": 4,
 "nbformat_minor": 2
}

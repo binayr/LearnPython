{
 "cells": [
  {
   "cell_type": "markdown",
   "metadata": {},
   "source": [
    "## Webscrapping "
   ]
  },
  {
   "cell_type": "markdown",
   "metadata": {},
   "source": [
    "By executing your python code we can make a request to target website get the data inform of html and extract the data we need. We can achieve the same using Beautifulsoup and some request operations in python. we will do few examples to demonstrate."
   ]
  },
  {
   "cell_type": "markdown",
   "metadata": {},
   "source": [
    "Before going in make sure Beautifulsoup4 is installed in your virtualenv, if not install it by doing `pip install beautifulsoup4`"
   ]
  },
  {
   "cell_type": "code",
   "execution_count": 4,
   "metadata": {},
   "outputs": [],
   "source": [
    "import urllib\n",
    "from bs4 import BeautifulSoup"
   ]
  },
  {
   "cell_type": "code",
   "execution_count": 5,
   "metadata": {},
   "outputs": [],
   "source": [
    "# following is a time of india news article. we will extract the news text from the html.\n",
    "article_url = 'https://timesofindia.indiatimes.com/city/kolhapur/homeopath-wife-held-in-kolhapur-for-selling-babies/articleshow/62814634.cms'"
   ]
  },
  {
   "cell_type": "code",
   "execution_count": 8,
   "metadata": {},
   "outputs": [],
   "source": [
    "page_data = urllib.request.urlopen(article_url).read().decode('utf8', 'ignore')\n",
    "# print(page_data)"
   ]
  },
  {
   "cell_type": "code",
   "execution_count": 11,
   "metadata": {},
   "outputs": [],
   "source": [
    "# Lets soup it. by making a soup of the html data we will be able to do operations on that using python. \n",
    "# we will get python object of all html tags here.\n",
    "soup = BeautifulSoup(page_data, 'lxml')\n",
    "# print(soup)"
   ]
  },
  {
   "cell_type": "code",
   "execution_count": 14,
   "metadata": {},
   "outputs": [
    {
     "name": "stdout",
     "output_type": "stream",
     "text": [
      "Maharashtra police on Tuesday arrested a homeopathic doctor and his wife for allegedly selling newborns in Kolhapur district. Police said Arun Bhupal Patil sold two babies over the last three months for Rs 2 lakh each. According to Priyadarshini Chorage, district head of the child welfare committee, Patil would help unmarried women deliver children and give all the cash from the sale to the mothers.\n",
      "\n",
      "Chorage said Patil has confessed to selling a new-born delivered by a minor mother to a family in Chhattisgarh on December 23, 2017 for Rs 2 lakh. “He has also confessed to selling a new-born baby to a couple in Mumbai but has not revealed the details,” she added.\n",
      "\n",
      "Police said Patil, his wife Ujwalla and a couple who took the baby had been booked under relevant sections of IPC and the Juvenile Justice Act, 2015.\n",
      "\n",
      "\n"
     ]
    }
   ],
   "source": [
    "# The main content of the page is inside the div with class Normal. so lets filter that out.\n",
    "target_div = soup.find_all(\"div\", {\"class\": \"Normal\"})\n",
    "# print(target_div)\n",
    "# if you extract the text of the target div it will give you the content\n",
    "text = target_div[0].text\n",
    "print(text)"
   ]
  },
  {
   "cell_type": "code",
   "execution_count": 16,
   "metadata": {},
   "outputs": [
    {
     "data": {
      "text/plain": [
       "'Maharashtra police on Tuesday arrested a homeopathic doctor and his wife for allegedly selling newborns in Kolhapur district. Police said Arun Bhupal Patil sold two babies over the last three months for Rs 2 lakh each. According to Priyadarshini Chorage, district head of the child welfare committee, Patil would help unmarried women deliver children and give all the cash from the sale to the mothers.Chorage said Patil has confessed to selling a new-born delivered by a minor mother to a family in Chhattisgarh on December 23, 2017 for Rs 2 lakh. “He has also confessed to selling a new-born baby to a couple in Mumbai but has not revealed the details,” she added.Police said Patil, his wife Ujwalla and a couple who took the baby had been booked under relevant sections of IPC and the Juvenile Justice Act, 2015.'"
      ]
     },
     "execution_count": 16,
     "metadata": {},
     "output_type": "execute_result"
    }
   ],
   "source": [
    "# if you do some formating like removal of new line it will make a paragraph\n",
    "text = text.replace('\\n', '').replace('  ', '')\n",
    "text"
   ]
  },
  {
   "cell_type": "code",
   "execution_count": 17,
   "metadata": {},
   "outputs": [
    {
     "data": {
      "text/plain": [
       "'Maharashtra police on Tuesday arrested a homeopathic doctor and his wife for allegedly selling newborns in Kolhapur district. Police said Arun Bhupal Patil sold two babies over the last three months for Rs 2 lakh each. According to Priyadarshini Chorage, district head of the child welfare committee, Patil would help unmarried women deliver children and give all the cash from the sale to the mothers.Chorage said Patil has confessed to selling a new-born delivered by a minor mother to a family in Chhattisgarh on December 23, 2017 for Rs 2 lakh. “He has also confessed to selling a new-born baby to a couple in Mumbai but has not revealed the details,” she added.Police said Patil, his wife Ujwalla and a couple who took the baby had been booked under relevant sections of IPC and the Juvenile Justice Act, 2015.'"
      ]
     },
     "execution_count": 17,
     "metadata": {},
     "output_type": "execute_result"
    }
   ],
   "source": [
    "# Lets put all this into a function to make it modular.\n",
    "def getTextWaPo(url):\n",
    "    page = urllib.request.urlopen(url).read().decode('utf8', 'ignore')\n",
    "    soup = BeautifulSoup(page, 'lxml')\n",
    "    text=''.join(map(lambda x: x.text, soup.find_all(\"div\", {\"class\": \"Normal\"})))\n",
    "    text = text.replace('\\n', '').replace('  ', '')\n",
    "    return text\n",
    "text = getTextWaPo(article_url)\n",
    "text"
   ]
  },
  {
   "cell_type": "markdown",
   "metadata": {},
   "source": [
    "### More Scrapping"
   ]
  },
  {
   "cell_type": "code",
   "execution_count": 18,
   "metadata": {},
   "outputs": [],
   "source": [
    "# Lets do some more web scrapping. lets go to some e commerce site to get data. "
   ]
  },
  {
   "cell_type": "code",
   "execution_count": null,
   "metadata": {},
   "outputs": [],
   "source": []
  }
 ],
 "metadata": {
  "kernelspec": {
   "display_name": "Python 3",
   "language": "python",
   "name": "python3"
  }
 },
 "nbformat": 4,
 "nbformat_minor": 2
}

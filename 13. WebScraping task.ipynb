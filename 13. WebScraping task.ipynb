{
 "cells": [
  {
   "cell_type": "markdown",
   "metadata": {},
   "source": [
    "## Webscrapping "
   ]
  },
  {
   "cell_type": "markdown",
   "metadata": {},
   "source": [
    "By executing your python code we can make a request to target website get the data inform of html and extract the data we need. We can achieve the same using Beautifulsoup and some request operations in python. we will do few examples to demonstrate."
   ]
  },
  {
   "cell_type": "markdown",
   "metadata": {},
   "source": [
    "Before going in make sure Beautifulsoup4 is installed in your virtualenv, if not install it by doing `pip install beautifulsoup4`"
   ]
  },
  {
   "cell_type": "code",
   "execution_count": 2,
   "metadata": {},
   "outputs": [],
   "source": [
    "import urllib\n",
    "from bs4 import BeautifulSoup"
   ]
  },
  {
   "cell_type": "code",
   "execution_count": 5,
   "metadata": {},
   "outputs": [],
   "source": [
    "# following is a time of india news article. we will extract the news text from the html.\n",
    "article_url = 'https://timesofindia.indiatimes.com/city/kolhapur/homeopath-wife-held-in-kolhapur-for-selling-babies/articleshow/62814634.cms'"
   ]
  },
  {
   "cell_type": "code",
   "execution_count": 8,
   "metadata": {},
   "outputs": [],
   "source": [
    "page_data = urllib.request.urlopen(article_url).read().decode('utf8', 'ignore')\n",
    "# print(page_data)"
   ]
  },
  {
   "cell_type": "code",
   "execution_count": 11,
   "metadata": {},
   "outputs": [],
   "source": [
    "# Lets soup it. by making a soup of the html data we will be able to do operations on that using python. \n",
    "# we will get python object of all html tags here.\n",
    "soup = BeautifulSoup(page_data, 'lxml')\n",
    "# print(soup)"
   ]
  },
  {
   "cell_type": "code",
   "execution_count": 14,
   "metadata": {},
   "outputs": [
    {
     "name": "stdout",
     "output_type": "stream",
     "text": [
      "Maharashtra police on Tuesday arrested a homeopathic doctor and his wife for allegedly selling newborns in Kolhapur district. Police said Arun Bhupal Patil sold two babies over the last three months for Rs 2 lakh each. According to Priyadarshini Chorage, district head of the child welfare committee, Patil would help unmarried women deliver children and give all the cash from the sale to the mothers.\n",
      "\n",
      "Chorage said Patil has confessed to selling a new-born delivered by a minor mother to a family in Chhattisgarh on December 23, 2017 for Rs 2 lakh. “He has also confessed to selling a new-born baby to a couple in Mumbai but has not revealed the details,” she added.\n",
      "\n",
      "Police said Patil, his wife Ujwalla and a couple who took the baby had been booked under relevant sections of IPC and the Juvenile Justice Act, 2015.\n",
      "\n",
      "\n"
     ]
    }
   ],
   "source": [
    "# The main content of the page is inside the div with class Normal. so lets filter that out.\n",
    "target_div = soup.find_all(\"div\", {\"class\": \"Normal\"})\n",
    "# print(target_div)\n",
    "# if you extract the text of the target div it will give you the content\n",
    "text = target_div[0].text\n",
    "print(text)"
   ]
  },
  {
   "cell_type": "code",
   "execution_count": 16,
   "metadata": {},
   "outputs": [
    {
     "data": {
      "text/plain": [
       "'Maharashtra police on Tuesday arrested a homeopathic doctor and his wife for allegedly selling newborns in Kolhapur district. Police said Arun Bhupal Patil sold two babies over the last three months for Rs 2 lakh each. According to Priyadarshini Chorage, district head of the child welfare committee, Patil would help unmarried women deliver children and give all the cash from the sale to the mothers.Chorage said Patil has confessed to selling a new-born delivered by a minor mother to a family in Chhattisgarh on December 23, 2017 for Rs 2 lakh. “He has also confessed to selling a new-born baby to a couple in Mumbai but has not revealed the details,” she added.Police said Patil, his wife Ujwalla and a couple who took the baby had been booked under relevant sections of IPC and the Juvenile Justice Act, 2015.'"
      ]
     },
     "execution_count": 16,
     "metadata": {},
     "output_type": "execute_result"
    }
   ],
   "source": [
    "# if you do some formating like removal of new line it will make a paragraph\n",
    "text = text.replace('\\n', '').replace('  ', '')\n",
    "text"
   ]
  },
  {
   "cell_type": "code",
   "execution_count": 17,
   "metadata": {},
   "outputs": [
    {
     "data": {
      "text/plain": [
       "'Maharashtra police on Tuesday arrested a homeopathic doctor and his wife for allegedly selling newborns in Kolhapur district. Police said Arun Bhupal Patil sold two babies over the last three months for Rs 2 lakh each. According to Priyadarshini Chorage, district head of the child welfare committee, Patil would help unmarried women deliver children and give all the cash from the sale to the mothers.Chorage said Patil has confessed to selling a new-born delivered by a minor mother to a family in Chhattisgarh on December 23, 2017 for Rs 2 lakh. “He has also confessed to selling a new-born baby to a couple in Mumbai but has not revealed the details,” she added.Police said Patil, his wife Ujwalla and a couple who took the baby had been booked under relevant sections of IPC and the Juvenile Justice Act, 2015.'"
      ]
     },
     "execution_count": 17,
     "metadata": {},
     "output_type": "execute_result"
    }
   ],
   "source": [
    "# Lets put all this into a function to make it modular.\n",
    "def getTextWaPo(url):\n",
    "    page = urllib.request.urlopen(url).read().decode('utf8', 'ignore')\n",
    "    soup = BeautifulSoup(page, 'lxml')\n",
    "    text=''.join(map(lambda x: x.text, soup.find_all(\"div\", {\"class\": \"Normal\"})))\n",
    "    text = text.replace('\\n', '').replace('  ', '')\n",
    "    return text\n",
    "text = getTextWaPo(article_url)\n",
    "text"
   ]
  },
  {
   "cell_type": "markdown",
   "metadata": {},
   "source": [
    "### More Scrapping"
   ]
  },
  {
   "cell_type": "code",
   "execution_count": 60,
   "metadata": {},
   "outputs": [],
   "source": [
    "# Lets do some more web scrapping. lets go to some e commerce site to get data. \n",
    "# we will use flipkart's url to get data\n",
    "\n",
    "def scrap_walmart_in(item):\n",
    "    _url = 'https://www.walmart.com/search/?query={0}'.format(item)\n",
    "    page = urllib.request.urlopen(_url).read().decode('utf8', 'ignore')\n",
    "    soup = BeautifulSoup(page, 'lxml')\n",
    "    products = soup.find_all('li', {'class': 'search-gridview-first-col-item'})\n",
    "    \n",
    "    result = []\n",
    "    for p in products:\n",
    "        link = p.find('a', {'class': 'product-title-link'})\n",
    "        currency = p.find('span', {'class': 'price-currency'}).text\n",
    "        char = p.find('span', {'class': 'price-characteristic'}).text\n",
    "        mark = p.find('span', {'class': 'price-mark'}).text\n",
    "        mantis = p.find('span', {'class': 'price-mantissa'}).text\n",
    "        price = '{0}{1}{2}{3}'.format(currency, char, mark, mantis)\n",
    "        data = {\n",
    "            'name': link.findChild(),\n",
    "            'link': 'https://www.walmart.com/{}'.format(link.attrs['href']),\n",
    "            'price': price,\n",
    "            'img': p.find('img', {'class': 'Tile-img'}).attrs['src']\n",
    "        }\n",
    "        result.append(data)\n",
    "    return result\n",
    "\n",
    "def display_products(data):\n",
    "    print ('----------------------------------')\n",
    "    for i in data:\n",
    "        print('Name: ', i['name'])\n",
    "        print('Price: ', i['price'])\n",
    "        print('link: ', i['link'])\n",
    "        print('-------------------------')\n"
   ]
  },
  {
   "cell_type": "code",
   "execution_count": 61,
   "metadata": {},
   "outputs": [
    {
     "name": "stdout",
     "output_type": "stream",
     "text": [
      "----------------------------------\n",
      "Name:  <span><mark>1-800-</mark>Flowers<mark></mark>: Fresh <mark>Flowers</mark> - Assorted Roses &amp; Peru  ...<br/></span>\n",
      "Price:  $54.99\n",
      "link:  https://www.walmart.com//ip/1-800-Flowers-Fresh-Flowers-Assorted-Roses-Peruvian-Lilies-with-Clear-Vase/893142472\n",
      "-------------------------\n",
      "Name:  <span><mark>Flower</mark> Shimmer &amp; Shade Eyeshadow Palette, Warm Natur  ...<br/></span>\n",
      "Price:  $14.98\n",
      "link:  https://www.walmart.com//ip/Flower-Shimmer-Shade-Eyeshadow-Palette-Warm-Natural/162449435\n",
      "-------------------------\n",
      "Name:  <span>Rose and Gypso with Fluted Vase Silk <mark>Flower</mark> Arrangem  ...<br/></span>\n",
      "Price:  $36.09\n",
      "link:  https://www.walmart.com//ip/Rose-and-Gypso-with-Fluted-Vase-Silk-Flower-Arrangement/17688055\n",
      "-------------------------\n",
      "Name:  <span><mark>Flower</mark> Shimmer &amp; Shade Eyeshadow Palette, ES2 Cool N  ...<br/></span>\n",
      "Price:  $14.98\n",
      "link:  https://www.walmart.com//ip/Flower-Shimmer-Shade-Eyeshadow-Palette-ES2-Cool-Natural/194864495\n",
      "-------------------------\n",
      "Name:  <span><mark>Flower</mark> Shimmer &amp; Shade Eyeshadow Palette, ES3 Golden  ...<br/></span>\n",
      "Price:  $14.98\n",
      "link:  https://www.walmart.com//ip/Flower-Shimmer-Shade-Eyeshadow-Palette-ES3-Golden-Natural/189389539\n",
      "-------------------------\n",
      "Name:  <span>Tree Orchid Artificial <mark>Flower</mark> Arrangement Bouquet Bu  ...<br/></span>\n",
      "Price:  $11.99\n",
      "link:  https://www.walmart.com//ip/Tree-Orchid-Artificial-Flower-Arrangement-Bouquet-Bush-Set-of-3-Pink/210014180\n",
      "-------------------------\n",
      "Name:  <span>StillCool Artificial <mark>Flower</mark>s Tulip 12pc/set Pu Stunn  ...<br/></span>\n",
      "Price:  $8.88\n",
      "link:  https://www.walmart.com//ip/StillCool-Artificial-Flowers-Tulip-12pc-set-Pu-Stunning-Holland-Mini-Tulip-Real-Touch-Wedding-Flower-Artificial-Flowers-Latex-Plants-Party-Home-Hotel/794024530\n",
      "-------------------------\n",
      "Name:  <span>Miles Kimball Artificial Memorial <mark>Flower</mark> Bouquet</span>\n",
      "Price:  $21.82\n",
      "link:  https://www.walmart.com//ip/Miles-Kimball-Artificial-Memorial-Flower-Bouquet/37516132\n",
      "-------------------------\n"
     ]
    }
   ],
   "source": [
    "display_products(scrap_walmart_in('flower'))"
   ]
  },
  {
   "cell_type": "code",
   "execution_count": 62,
   "metadata": {},
   "outputs": [
    {
     "name": "stdout",
     "output_type": "stream",
     "text": [
      "----------------------------------\n",
      "Name:  <span>Mainstays Shark Beach <mark>Towel</mark></span>\n",
      "Price:  $5.77\n",
      "link:  https://www.walmart.com//ip/Mainstays-Shark-Beach-Towel/231410425\n",
      "-------------------------\n",
      "Name:  <span>MS 28X60 PRINTED SHEARED BEACH <mark>TOWEL</mark> VARIEGATED STRI  ...<br/></span>\n",
      "Price:  $5.77\n",
      "link:  https://www.walmart.com//ip/MS-28X60-PRINTED-SHEARED-BEACH-TOWEL-VARIEGATED-STRIPE-MULT/894963326\n",
      "-------------------------\n",
      "Name:  <span>MS 28X60 PRINTED SHEARED BEACH <mark>TOWEL</mark> PINEAPPLE</span>\n",
      "Price:  $5.77\n",
      "link:  https://www.walmart.com//ip/MS-28X60-PRINTED-SHEARED-BEACH-TOWEL-PINEAPPLE/792561776\n",
      "-------------------------\n",
      "Name:  <span>Mainstays 34\" x 64\" Fiber Reactive Print Beach <mark>Towel</mark></span>\n",
      "Price:  $8.94\n",
      "link:  https://www.walmart.com//ip/Mainstays-34-x-64-Fiber-Reactive-Print-Beach-Towel/614740376\n",
      "-------------------------\n",
      "Name:  <span>Mainstays Round <mark>Towel</mark> Pizza</span>\n",
      "Price:  $9.97\n",
      "link:  https://www.walmart.com//ip/Mainstays-Round-Towel-Pizza/718461616\n",
      "-------------------------\n",
      "Name:  <span>Mainstays Silver Leaves Bath <mark>Towel</mark> Collection</span>\n",
      "Price:  $5.96\n",
      "link:  https://www.walmart.com//ip/Mainstays-Silver-Leaves-Bath-Towel-Collection/41268998\n",
      "-------------------------\n",
      "Name:  <span>Better Homes and Gardens Coastal Bath <mark>Towel</mark> Collecti  ...<br/></span>\n",
      "Price:  $7.88\n",
      "link:  https://www.walmart.com//ip/Better-Homes-and-Gardens-Coastal-Bath-Towel-Collection/36092096\n",
      "-------------------------\n",
      "Name:  <span>Better Homes &amp; Gardens Glimmer Bath Collection - ite  ...<br/></span>\n",
      "Price:  $7.88\n",
      "link:  https://www.walmart.com//ip/Better-Homes-Gardens-Glimmer-Bath-Collection-items-sold-separately/40975362\n",
      "-------------------------\n"
     ]
    }
   ],
   "source": [
    "display_products(scrap_walmart_in('towel'))"
   ]
  },
  {
   "cell_type": "code",
   "execution_count": 63,
   "metadata": {},
   "outputs": [
    {
     "name": "stdout",
     "output_type": "stream",
     "text": [
      "----------------------------------\n",
      "Name:  <span><mark>Flower</mark> Shimmer &amp; Strobe Highlighting Palette, SP1</span>\n",
      "Price:  $12.98\n",
      "link:  https://www.walmart.com//ip/Flower-Shimmer-Strobe-Highlighting-Palette-SP1/169385725\n",
      "-------------------------\n",
      "Name:  <span><mark>Flower</mark> Draw the Line EP1 Blonde Eyebrow Pencil, 0.00  ...<br/></span>\n",
      "Price:  $6.98\n",
      "link:  https://www.walmart.com//ip/Flower-Draw-the-Line-EP1-Blonde-Eyebrow-Pencil-0-007-oz/49019680\n",
      "-------------------------\n",
      "Name:  <span><mark>Flower</mark> Shimmer &amp; Shade Eyeshadow Palette, ES4 Intens  ...<br/></span>\n",
      "Price:  $14.98\n",
      "link:  https://www.walmart.com//ip/Flower-Shimmer-Shade-Eyeshadow-Palette-ES4-Intense-Natural/172285066\n",
      "-------------------------\n",
      "Name:  <span><mark>FLOWER</mark> Kiss Me Twice Lip &amp; Cheek Chubby, Apricot-A-L  ...<br/></span>\n",
      "Price:  $9.98\n",
      "link:  https://www.walmart.com//ip/FLOWER-Kiss-Me-Twice-Lip-Cheek-Chubby-Apricot-A-Lot/31343530\n",
      "-------------------------\n",
      "Name:  <span><mark>Flower</mark> Cosmetics Petal Pout Delicate Dew Lip Color -  ...<br/></span>\n",
      "Price:  $5.98\n",
      "link:  https://www.walmart.com//ip/Flower-Cosmetics-Petal-Pout-Delicate-Dew-Lip-Color-Bare-Pout/169114727\n",
      "-------------------------\n",
      "Name:  <span><mark>Flower</mark> Eyes on the Prize Eyeshadow Chubby, EC6 Rose   ...<br/></span>\n",
      "Price:  $7.98\n",
      "link:  https://www.walmart.com//ip/Flower-Eyes-on-the-Prize-Eyeshadow-Chubby-EC6-Rose-Gold-Dust-0-09-oz/49019675\n",
      "-------------------------\n",
      "Name:  <span>Simplicity 500pcs Silk <mark>Flower</mark> Rose Petals Wedding Pa  ...<br/></span>\n",
      "Price:  $7.99\n",
      "link:  https://www.walmart.com//ip/Simplicity-500pcs-Silk-Flower-Rose-Petals-Wedding-Party-Decoration-Burgundy/136118850\n",
      "-------------------------\n",
      "Name:  <span><mark>Flower</mark> Forever Wear Liner Brownstone FW3 Long-Wear E  ...<br/></span>\n",
      "Price:  $6.98\n",
      "link:  https://www.walmart.com//ip/Flower-Forever-Wear-Liner-Brownstone-FW3-Long-Wear-Eyeliner-0-01-oz/49019692\n",
      "-------------------------\n"
     ]
    }
   ],
   "source": [
    "display_products(scrap_walmart_in('flower'))"
   ]
  },
  {
   "cell_type": "code",
   "execution_count": null,
   "metadata": {},
   "outputs": [],
   "source": []
  }
 ],
 "metadata": {
  "kernelspec": {
   "display_name": "Python 3",
   "language": "python",
   "name": "python3"
  },
  "language_info": {
   "codemirror_mode": {
    "name": "ipython",
    "version": 3
   },
   "file_extension": ".py",
   "mimetype": "text/x-python",
   "name": "python",
   "nbconvert_exporter": "python",
   "pygments_lexer": "ipython3",
   "version": "3.6.1"
  }
 },
 "nbformat": 4,
 "nbformat_minor": 2
}

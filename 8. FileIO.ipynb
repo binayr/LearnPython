{
 "cells": [
  {
   "cell_type": "markdown",
   "metadata": {},
   "source": [
    "# File Operations"
   ]
  },
  {
   "cell_type": "markdown",
   "metadata": {},
   "source": [
    "There are 3 basic types of file operations in python, **Read**, **Write** and **Append**.\n",
    "\n",
    "In read mode you can only read the existing file contents.\n",
    "In write mode you can write new content into an empty file.\n",
    "In append mode you can read the existing content as well as write new content. to it.\n"
   ]
  },
  {
   "cell_type": "markdown",
   "metadata": {},
   "source": [
    "# open keyword and syntax"
   ]
  },
  {
   "cell_type": "raw",
   "metadata": {},
   "source": [
    "open is a python keyword(function) that takes 2 arguments (path, mode)\n",
    "\n",
    "path = full path of the file with extension\n",
    "mode = read/write/append (default mode is read)\n",
    "\n",
    "syntax:\n",
    "f = open('data/fileiodir/readsomething.txt', 'r')  # read mode\n",
    "f.readlines()\n",
    "f.close()\n",
    "\n",
    "f = open('data/fileiodir/writesomething.txt', 'w')  # write mode\n",
    "f.write('hello world')\n",
    "f.close()\n",
    "\n",
    "f = open('data/fileiodir/appendsomething.txt', 'a')  # write mode\n",
    "f.write('hello world v2')\n",
    "f.close()"
   ]
  },
  {
   "cell_type": "markdown",
   "metadata": {},
   "source": [
    "### Read Mode"
   ]
  },
  {
   "cell_type": "code",
   "execution_count": 1,
   "metadata": {},
   "outputs": [
    {
     "name": "stdout",
     "output_type": "stream",
     "text": [
      "['hello world\\n', '\\n', 'this is a python file io demo\\n', '\\n', 'text with in a file\\n', '\\n', 'bye bye']\n"
     ]
    }
   ],
   "source": [
    "f = open('data/fileiodir/readsomething.txt', 'r')  # read mode\n",
    "print(f.readlines())\n",
    "f.close()"
   ]
  },
  {
   "cell_type": "markdown",
   "metadata": {},
   "source": [
    "### Write Mode"
   ]
  },
  {
   "cell_type": "code",
   "execution_count": 2,
   "metadata": {},
   "outputs": [
    {
     "name": "stdout",
     "output_type": "stream",
     "text": [
      "['hello world']\n"
     ]
    }
   ],
   "source": [
    "f = open('data/fileiodir/writesomething.txt', 'w')  # write mode\n",
    "f.write('hello world')\n",
    "f.close()\n",
    "\n",
    "f = open('data/fileiodir/writesomething.txt')  # read mode\n",
    "print(f.readlines())\n",
    "f.close()"
   ]
  },
  {
   "cell_type": "markdown",
   "metadata": {},
   "source": [
    "**Note**: You can also use 'w+' mode to read and write in write mode itself, but content at the beginning will be empty. 'wb+' mode is used for binary writing, avoid using that if you do not have binary content of the file."
   ]
  },
  {
   "cell_type": "markdown",
   "metadata": {},
   "source": [
    "### Append Mode"
   ]
  },
  {
   "cell_type": "code",
   "execution_count": 3,
   "metadata": {},
   "outputs": [
    {
     "name": "stdout",
     "output_type": "stream",
     "text": [
      "['hello world\\n', '\\n', 'this is a python file io demo for append mode\\n', '\\n', 'text with in a file\\n', '\\n', 'bye byehello world v2hello world v2']\n"
     ]
    }
   ],
   "source": [
    "f = open('data/fileiodir/appendsomething.txt', 'a')  # write mode\n",
    "f.write('hello world v2')\n",
    "f.close()\n",
    "\n",
    "f = open('data/fileiodir/appendsomething.txt')  # read mode\n",
    "print(f.readlines())\n",
    "f.close()"
   ]
  },
  {
   "cell_type": "markdown",
   "metadata": {},
   "source": [
    "**Note**: You need to close the file ate the end in every mode to avoid it getting currupt."
   ]
  },
  {
   "cell_type": "markdown",
   "metadata": {},
   "source": [
    "# use of 'with'"
   ]
  },
  {
   "cell_type": "markdown",
   "metadata": {},
   "source": [
    "For situations where you might forget forget to close the file you can use with with open for graceful fileIO operations."
   ]
  },
  {
   "cell_type": "code",
   "execution_count": 4,
   "metadata": {},
   "outputs": [
    {
     "name": "stdout",
     "output_type": "stream",
     "text": [
      "['hello world\\n', '\\n', 'this is a python file io demo\\n', '\\n', 'text with in a file\\n', '\\n', 'bye bye']\n"
     ]
    }
   ],
   "source": [
    "with open('data/fileiodir/readsomething.txt', 'r') as f: # same for write and append mode\n",
    "    print(f.readlines())\n"
   ]
  }
 ],
 "metadata": {
  "kernelspec": {
   "display_name": "Python 3",
   "language": "python",
   "name": "python3"
  },
  "language_info": {
   "codemirror_mode": {
    "name": "ipython",
    "version": 3
   },
   "file_extension": ".py",
   "mimetype": "text/x-python",
   "name": "python",
   "nbconvert_exporter": "python",
   "pygments_lexer": "ipython3",
   "version": "3.6.1"
  }
 },
 "nbformat": 4,
 "nbformat_minor": 2
}
